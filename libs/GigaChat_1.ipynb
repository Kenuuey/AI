{
 "cells": [
  {
   "cell_type": "code",
   "execution_count": null,
   "metadata": {
    "colab": {
     "base_uri": "https://localhost:8080/"
    },
    "id": "BlQo5G5M0ACL",
    "outputId": "bca4ae7c-d1ae-4cc6-87a3-60948092cd21",
    "scrolled": true
   },
   "outputs": [],
   "source": [
    "!pip install langchain-gigachat"
   ]
  },
  {
   "cell_type": "code",
   "execution_count": null,
   "metadata": {
    "id": "LuBt27Cq3JFT"
   },
   "outputs": [],
   "source": [
    "from langchain_core.messages import HumanMessage, SystemMessage\n",
    "from langchain_gigachat.chat_models import GigaChat"
   ]
  },
  {
   "cell_type": "code",
   "execution_count": 1,
   "metadata": {
    "colab": {
     "base_uri": "https://localhost:8080/",
     "height": 339
    },
    "id": "zNJbXDWcWXLH",
    "outputId": "43ff0a4a-7163-469a-9175-b19283b936b8",
    "scrolled": true
   },
   "outputs": [],
   "source": [
    "llm = GigaChat(\n",
    "#             model=\"GigaChat-Max\",\n",
    "              credentials=\"API_key\",\n",
    "              scope=\"GIGACHAT_API_PERS\",\n",
    "              verify_ssl_certs=False,A\n",
    "\n",
    "llm.invoke(\"Hi! What's your name?\").content"
   ]
  },
  {
   "cell_type": "code",
   "execution_count": 5,
   "metadata": {
    "id": "NbvqyJRk3fjE"
   },
   "outputs": [],
   "source": [
    "messages = [\n",
    "    SystemMessage(\n",
    "        content=\"\"\"\n",
    "        You are a chatbot consultant for SoftAI Solutions, a company developing AI software.\n",
    "        Contact: support@softai.com | +1 (555) 123-4567.\n",
    "        We provide corporate AI solutions and data analytics.\n",
    "        Purchases: via website softai.com or phone.\n",
    "        Refunds: possible within 14 days if product is intact.\n",
    "        Complaints: send to feedback@softai.com.\n",
    "        \n",
    "        On greeting reply: “How can I help? I’m here to answer questions about SoftAI Solutions.”\n",
    "        For unrelated queries reply: “Sorry, I only provide information about SoftAI Solutions.”\n",
    "        \"\"\"\n",
    "    )\n",
    "]"
   ]
  },
  {
   "cell_type": "code",
   "execution_count": 2,
   "metadata": {
    "colab": {
     "base_uri": "https://localhost:8080/"
    },
    "id": "cqh4HbCpYU5T",
    "outputId": "13cb90da-1fcd-4797-ce5a-3775f38441f6"
   },
   "outputs": [
    {
     "name": "stdout",
     "output_type": "stream",
     "text": [
      "Пользователь:  Как с вами связаться?\n"
     ]
    },
    {
     "name": "stdout",
     "output_type": "stream",
     "text": [
      "GigaChat:  Вы можете позвонить по номеру +7 (495) 123-45-67, написать на email info@techinnovate.com или посетить нас по адресу ул. Технологическая, д. 12.\n"
     ]
    },
    {
     "name": "stdout",
     "output_type": "stream",
     "text": [
      "Пользователь:  Какая нынче погода?\n"
     ]
    },
    {
     "name": "stdout",
     "output_type": "stream",
     "text": [
      "GigaChat:  Извините, я консультирую только по вопросам компании TechInnovate.\n"
     ]
    },
    {
     "name": "stdout",
     "output_type": "stream",
     "text": [
      "Пользователь:  пока\n"
     ]
    }
   ],
   "source": [
    "while(True):\n",
    "    user_input = input(\"User: \")\n",
    "    if user_input == \"stop\":\n",
    "      break\n",
    "    messages.append(HumanMessage(content=user_input))\n",
    "    res = llm.invoke(messages)\n",
    "    messages.append(res)\n",
    "    print(\"GigaChat: \", res.content)"
   ]
  }
 ],
 "metadata": {
  "colab": {
   "provenance": []
  },
  "kernelspec": {
   "display_name": "Python 3 (ipykernel)",
   "language": "python",
   "name": "python3"
  },
  "language_info": {
   "codemirror_mode": {
    "name": "ipython",
    "version": 3
   },
   "file_extension": ".py",
   "mimetype": "text/x-python",
   "name": "python",
   "nbconvert_exporter": "python",
   "pygments_lexer": "ipython3",
   "version": "3.12.3"
  }
 },
 "nbformat": 4,
 "nbformat_minor": 4
}
