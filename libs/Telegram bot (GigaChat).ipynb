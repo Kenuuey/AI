{
 "cells": [
  {
   "cell_type": "code",
   "execution_count": 1,
   "id": "062e8eee-7fa5-4430-b045-76d1f9f72c07",
   "metadata": {
    "scrolled": true
   },
   "outputs": [],
   "source": [
    "!pip install --upgrade langchain\n",
    "!pip install -q langchain-gigachat\n",
    "!pip install -q pyTelegramBotAPI"
   ]
  },
  {
   "cell_type": "code",
   "execution_count": 19,
   "id": "554bd0fa-30d1-45f0-908e-f060a85a5469",
   "metadata": {},
   "outputs": [],
   "source": [
    "from langchain.chains import ConversationChain\n",
    "from langchain.prompts.chat import ChatPromptTemplate, MessagesPlaceholder\n",
    "from langchain.memory import ConversationBufferMemory\n",
    "import telebot\n",
    "from time import sleep\n",
    "from langchain_gigachat import GigaChat"
   ]
  },
  {
   "cell_type": "code",
   "execution_count": 20,
   "id": "5a9ffe30-2767-46a5-93ba-fc35677f31e7",
   "metadata": {},
   "outputs": [],
   "source": [
    "llm = GigaChat(\n",
    "    # model=\"GigaChat-Max\",\n",
    "    credentials=\"LLM_API_Key\",\n",
    "    scope=\"GIGACHAT_API_PERS\",\n",
    "    verify_ssl_certs=False,\n",
    ")\n",
    "\n",
    "bot = telebot.TeleBot(\"Bot_API_key\")\n",
    "\n",
    "prompt = ChatPromptTemplate.from_messages([\n",
    "    (\"system\",\n",
    "     \"You are a friendly and knowledgeable restaurant assistant. \"\n",
    "     \"Answer only questions about food, restaurants, menus, and dining tips. \"\n",
    "     \"If the question is unrelated to dining, reply with: \"\n",
    "     \"'Sorry, I can only help with food, restaurants, and dining information.'\"\n",
    "    ),\n",
    "    MessagesPlaceholder(variable_name=\"history\"),\n",
    "    (\"human\", \"{input}\"),\n",
    "])\n",
    "\n",
    "user_conversations = {}"
   ]
  },
  {
   "cell_type": "code",
   "execution_count": 2,
   "id": "8f03c1ef-146a-481d-82c1-95bd679a27d1",
   "metadata": {
    "scrolled": true
   },
   "outputs": [],
   "source": [
    "# Handling non-text messages\n",
    "@bot.message_handler(content_types=['audio','video','document','photo','sticker','voice','location','contact'])\n",
    "def not_text(message):\n",
    "    bot.send_message(message.chat.id, \"I only work with text messages!\")\n",
    "\n",
    "# Reset conversation history\n",
    "@bot.message_handler(commands=['reset'])\n",
    "def reset_memory(message):\n",
    "    user_id = message.chat.id\n",
    "    if user_id in user_conversations:\n",
    "        user_conversations[user_id].memory.clear()\n",
    "    bot.send_message(user_id, \"Conversation history has been reset.\")\n",
    "\n",
    "# Handling text messages\n",
    "@bot.message_handler(content_types=['text'])\n",
    "def handle_text_message(message):\n",
    "    user_id = message.chat.id\n",
    "\n",
    "    # Create ConversationChain for a new user\n",
    "    if user_id not in user_conversations:\n",
    "        user_conversations[user_id] = ConversationChain(\n",
    "            llm=llm,\n",
    "            verbose=True,\n",
    "            memory=ConversationBufferMemory(\n",
    "                return_messages=True,\n",
    "                memory_key=\"history\",\n",
    "                k=10  # keep last 10 messages\n",
    "            ),\n",
    "            prompt=prompt\n",
    "        )\n",
    "    \n",
    "    conversation = user_conversations[user_id]\n",
    "\n",
    "    try:\n",
    "        response = conversation.predict(input=message.text)\n",
    "    except Exception:\n",
    "        response = \"Sorry, an error occurred. Please try again.\"\n",
    "    \n",
    "    bot.send_message(user_id, response)\n",
    "    sleep(1)\n",
    "\n",
    "# Start the bot\n",
    "bot.polling(none_stop=True)"
   ]
  }
 ],
 "metadata": {
  "kernelspec": {
   "display_name": "Python 3 (ipykernel)",
   "language": "python",
   "name": "python3"
  },
  "language_info": {
   "codemirror_mode": {
    "name": "ipython",
    "version": 3
   },
   "file_extension": ".py",
   "mimetype": "text/x-python",
   "name": "python",
   "nbconvert_exporter": "python",
   "pygments_lexer": "ipython3",
   "version": "3.12.3"
  }
 },
 "nbformat": 4,
 "nbformat_minor": 5
}
