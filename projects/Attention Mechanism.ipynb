{
 "cells": [
  {
   "cell_type": "markdown",
   "metadata": {
    "id": "Ieo9yxLJ_wJD"
   },
   "source": [
    "### Import"
   ]
  },
  {
   "cell_type": "code",
   "execution_count": 230,
   "metadata": {
    "id": "TKtCJ1UiwkKV"
   },
   "outputs": [],
   "source": [
    "import os\n",
    "import pandas as pd\n",
    "import numpy as np\n",
    "import seaborn as sns\n",
    "import matplotlib.pyplot as plt\n",
    "\n",
    "from sklearn.model_selection import train_test_split\n",
    "\n",
    "import torch\n",
    "import torch.nn as nn\n",
    "import torch.nn.functional as F\n",
    "from torch.utils.data import Dataset, DataLoader\n",
    "\n",
    "import math\n",
    "from collections import Counter"
   ]
  },
  {
   "cell_type": "markdown",
   "metadata": {
    "id": "hyCPbFMy_xgB"
   },
   "source": [
    "### Data Prep"
   ]
  },
  {
   "cell_type": "code",
   "execution_count": 172,
   "metadata": {
    "colab": {
     "base_uri": "https://localhost:8080/",
     "height": 206
    },
    "id": "0n90jCSk0WUO",
    "outputId": "95528917-6755-49f7-e214-19e6ccd7fdb4"
   },
   "outputs": [
    {
     "data": {
      "application/vnd.google.colaboratory.intrinsic+json": {
       "summary": "{\n  \"name\": \"df\",\n  \"rows\": 5,\n  \"fields\": [\n    {\n      \"column\": \"English\",\n      \"properties\": {\n        \"dtype\": \"string\",\n        \"num_unique_values\": 5,\n        \"samples\": [\n          \"Roslyn\",\n          \"Audrianna\",\n          \"Miner\"\n        ],\n        \"semantic_type\": \"\",\n        \"description\": \"\"\n      }\n    },\n    {\n      \"column\": \"Russian\",\n      \"properties\": {\n        \"dtype\": \"string\",\n        \"num_unique_values\": 5,\n        \"samples\": [\n          \"\\u0420\\u043e\\u0437\\u043b\\u0438\\u043d\",\n          \"\\u041e\\u0434\\u0440\\u0438\\u0430\\u043d\\u043d\\u0430\",\n          \"\\u041c\\u0430\\u0439\\u043d\\u0435\\u0440\"\n        ],\n        \"semantic_type\": \"\",\n        \"description\": \"\"\n      }\n    }\n  ]\n}",
       "type": "dataframe"
      },
      "text/html": [
       "\n",
       "  <div id=\"df-6daea923-2495-413a-9c13-479af50f5aec\" class=\"colab-df-container\">\n",
       "    <div>\n",
       "<style scoped>\n",
       "    .dataframe tbody tr th:only-of-type {\n",
       "        vertical-align: middle;\n",
       "    }\n",
       "\n",
       "    .dataframe tbody tr th {\n",
       "        vertical-align: top;\n",
       "    }\n",
       "\n",
       "    .dataframe thead th {\n",
       "        text-align: right;\n",
       "    }\n",
       "</style>\n",
       "<table border=\"1\" class=\"dataframe\">\n",
       "  <thead>\n",
       "    <tr style=\"text-align: right;\">\n",
       "      <th></th>\n",
       "      <th>English</th>\n",
       "      <th>Russian</th>\n",
       "    </tr>\n",
       "  </thead>\n",
       "  <tbody>\n",
       "    <tr>\n",
       "      <th>6177</th>\n",
       "      <td>Kortney</td>\n",
       "      <td>Кортни</td>\n",
       "    </tr>\n",
       "    <tr>\n",
       "      <th>4819</th>\n",
       "      <td>Roslyn</td>\n",
       "      <td>Розлин</td>\n",
       "    </tr>\n",
       "    <tr>\n",
       "      <th>1308</th>\n",
       "      <td>Miner</td>\n",
       "      <td>Майнер</td>\n",
       "    </tr>\n",
       "    <tr>\n",
       "      <th>4580</th>\n",
       "      <td>Pricilla</td>\n",
       "      <td>Присцилла</td>\n",
       "    </tr>\n",
       "    <tr>\n",
       "      <th>6244</th>\n",
       "      <td>Audrianna</td>\n",
       "      <td>Одрианна</td>\n",
       "    </tr>\n",
       "  </tbody>\n",
       "</table>\n",
       "</div>\n",
       "    <div class=\"colab-df-buttons\">\n",
       "\n",
       "  <div class=\"colab-df-container\">\n",
       "    <button class=\"colab-df-convert\" onclick=\"convertToInteractive('df-6daea923-2495-413a-9c13-479af50f5aec')\"\n",
       "            title=\"Convert this dataframe to an interactive table.\"\n",
       "            style=\"display:none;\">\n",
       "\n",
       "  <svg xmlns=\"http://www.w3.org/2000/svg\" height=\"24px\" viewBox=\"0 -960 960 960\">\n",
       "    <path d=\"M120-120v-720h720v720H120Zm60-500h600v-160H180v160Zm220 220h160v-160H400v160Zm0 220h160v-160H400v160ZM180-400h160v-160H180v160Zm440 0h160v-160H620v160ZM180-180h160v-160H180v160Zm440 0h160v-160H620v160Z\"/>\n",
       "  </svg>\n",
       "    </button>\n",
       "\n",
       "  <style>\n",
       "    .colab-df-container {\n",
       "      display:flex;\n",
       "      gap: 12px;\n",
       "    }\n",
       "\n",
       "    .colab-df-convert {\n",
       "      background-color: #E8F0FE;\n",
       "      border: none;\n",
       "      border-radius: 50%;\n",
       "      cursor: pointer;\n",
       "      display: none;\n",
       "      fill: #1967D2;\n",
       "      height: 32px;\n",
       "      padding: 0 0 0 0;\n",
       "      width: 32px;\n",
       "    }\n",
       "\n",
       "    .colab-df-convert:hover {\n",
       "      background-color: #E2EBFA;\n",
       "      box-shadow: 0px 1px 2px rgba(60, 64, 67, 0.3), 0px 1px 3px 1px rgba(60, 64, 67, 0.15);\n",
       "      fill: #174EA6;\n",
       "    }\n",
       "\n",
       "    .colab-df-buttons div {\n",
       "      margin-bottom: 4px;\n",
       "    }\n",
       "\n",
       "    [theme=dark] .colab-df-convert {\n",
       "      background-color: #3B4455;\n",
       "      fill: #D2E3FC;\n",
       "    }\n",
       "\n",
       "    [theme=dark] .colab-df-convert:hover {\n",
       "      background-color: #434B5C;\n",
       "      box-shadow: 0px 1px 3px 1px rgba(0, 0, 0, 0.15);\n",
       "      filter: drop-shadow(0px 1px 2px rgba(0, 0, 0, 0.3));\n",
       "      fill: #FFFFFF;\n",
       "    }\n",
       "  </style>\n",
       "\n",
       "    <script>\n",
       "      const buttonEl =\n",
       "        document.querySelector('#df-6daea923-2495-413a-9c13-479af50f5aec button.colab-df-convert');\n",
       "      buttonEl.style.display =\n",
       "        google.colab.kernel.accessAllowed ? 'block' : 'none';\n",
       "\n",
       "      async function convertToInteractive(key) {\n",
       "        const element = document.querySelector('#df-6daea923-2495-413a-9c13-479af50f5aec');\n",
       "        const dataTable =\n",
       "          await google.colab.kernel.invokeFunction('convertToInteractive',\n",
       "                                                    [key], {});\n",
       "        if (!dataTable) return;\n",
       "\n",
       "        const docLinkHtml = 'Like what you see? Visit the ' +\n",
       "          '<a target=\"_blank\" href=https://colab.research.google.com/notebooks/data_table.ipynb>data table notebook</a>'\n",
       "          + ' to learn more about interactive tables.';\n",
       "        element.innerHTML = '';\n",
       "        dataTable['output_type'] = 'display_data';\n",
       "        await google.colab.output.renderOutput(dataTable, element);\n",
       "        const docLink = document.createElement('div');\n",
       "        docLink.innerHTML = docLinkHtml;\n",
       "        element.appendChild(docLink);\n",
       "      }\n",
       "    </script>\n",
       "  </div>\n",
       "\n",
       "\n",
       "    <div id=\"df-b8448555-f474-49dc-bfb6-02eb13b626fe\">\n",
       "      <button class=\"colab-df-quickchart\" onclick=\"quickchart('df-b8448555-f474-49dc-bfb6-02eb13b626fe')\"\n",
       "                title=\"Suggest charts\"\n",
       "                style=\"display:none;\">\n",
       "\n",
       "<svg xmlns=\"http://www.w3.org/2000/svg\" height=\"24px\"viewBox=\"0 0 24 24\"\n",
       "     width=\"24px\">\n",
       "    <g>\n",
       "        <path d=\"M19 3H5c-1.1 0-2 .9-2 2v14c0 1.1.9 2 2 2h14c1.1 0 2-.9 2-2V5c0-1.1-.9-2-2-2zM9 17H7v-7h2v7zm4 0h-2V7h2v10zm4 0h-2v-4h2v4z\"/>\n",
       "    </g>\n",
       "</svg>\n",
       "      </button>\n",
       "\n",
       "<style>\n",
       "  .colab-df-quickchart {\n",
       "      --bg-color: #E8F0FE;\n",
       "      --fill-color: #1967D2;\n",
       "      --hover-bg-color: #E2EBFA;\n",
       "      --hover-fill-color: #174EA6;\n",
       "      --disabled-fill-color: #AAA;\n",
       "      --disabled-bg-color: #DDD;\n",
       "  }\n",
       "\n",
       "  [theme=dark] .colab-df-quickchart {\n",
       "      --bg-color: #3B4455;\n",
       "      --fill-color: #D2E3FC;\n",
       "      --hover-bg-color: #434B5C;\n",
       "      --hover-fill-color: #FFFFFF;\n",
       "      --disabled-bg-color: #3B4455;\n",
       "      --disabled-fill-color: #666;\n",
       "  }\n",
       "\n",
       "  .colab-df-quickchart {\n",
       "    background-color: var(--bg-color);\n",
       "    border: none;\n",
       "    border-radius: 50%;\n",
       "    cursor: pointer;\n",
       "    display: none;\n",
       "    fill: var(--fill-color);\n",
       "    height: 32px;\n",
       "    padding: 0;\n",
       "    width: 32px;\n",
       "  }\n",
       "\n",
       "  .colab-df-quickchart:hover {\n",
       "    background-color: var(--hover-bg-color);\n",
       "    box-shadow: 0 1px 2px rgba(60, 64, 67, 0.3), 0 1px 3px 1px rgba(60, 64, 67, 0.15);\n",
       "    fill: var(--button-hover-fill-color);\n",
       "  }\n",
       "\n",
       "  .colab-df-quickchart-complete:disabled,\n",
       "  .colab-df-quickchart-complete:disabled:hover {\n",
       "    background-color: var(--disabled-bg-color);\n",
       "    fill: var(--disabled-fill-color);\n",
       "    box-shadow: none;\n",
       "  }\n",
       "\n",
       "  .colab-df-spinner {\n",
       "    border: 2px solid var(--fill-color);\n",
       "    border-color: transparent;\n",
       "    border-bottom-color: var(--fill-color);\n",
       "    animation:\n",
       "      spin 1s steps(1) infinite;\n",
       "  }\n",
       "\n",
       "  @keyframes spin {\n",
       "    0% {\n",
       "      border-color: transparent;\n",
       "      border-bottom-color: var(--fill-color);\n",
       "      border-left-color: var(--fill-color);\n",
       "    }\n",
       "    20% {\n",
       "      border-color: transparent;\n",
       "      border-left-color: var(--fill-color);\n",
       "      border-top-color: var(--fill-color);\n",
       "    }\n",
       "    30% {\n",
       "      border-color: transparent;\n",
       "      border-left-color: var(--fill-color);\n",
       "      border-top-color: var(--fill-color);\n",
       "      border-right-color: var(--fill-color);\n",
       "    }\n",
       "    40% {\n",
       "      border-color: transparent;\n",
       "      border-right-color: var(--fill-color);\n",
       "      border-top-color: var(--fill-color);\n",
       "    }\n",
       "    60% {\n",
       "      border-color: transparent;\n",
       "      border-right-color: var(--fill-color);\n",
       "    }\n",
       "    80% {\n",
       "      border-color: transparent;\n",
       "      border-right-color: var(--fill-color);\n",
       "      border-bottom-color: var(--fill-color);\n",
       "    }\n",
       "    90% {\n",
       "      border-color: transparent;\n",
       "      border-bottom-color: var(--fill-color);\n",
       "    }\n",
       "  }\n",
       "</style>\n",
       "\n",
       "      <script>\n",
       "        async function quickchart(key) {\n",
       "          const quickchartButtonEl =\n",
       "            document.querySelector('#' + key + ' button');\n",
       "          quickchartButtonEl.disabled = true;  // To prevent multiple clicks.\n",
       "          quickchartButtonEl.classList.add('colab-df-spinner');\n",
       "          try {\n",
       "            const charts = await google.colab.kernel.invokeFunction(\n",
       "                'suggestCharts', [key], {});\n",
       "          } catch (error) {\n",
       "            console.error('Error during call to suggestCharts:', error);\n",
       "          }\n",
       "          quickchartButtonEl.classList.remove('colab-df-spinner');\n",
       "          quickchartButtonEl.classList.add('colab-df-quickchart-complete');\n",
       "        }\n",
       "        (() => {\n",
       "          let quickchartButtonEl =\n",
       "            document.querySelector('#df-b8448555-f474-49dc-bfb6-02eb13b626fe button');\n",
       "          quickchartButtonEl.style.display =\n",
       "            google.colab.kernel.accessAllowed ? 'block' : 'none';\n",
       "        })();\n",
       "      </script>\n",
       "    </div>\n",
       "    </div>\n",
       "  </div>\n"
      ],
      "text/plain": [
       "        English    Russian\n",
       "6177    Kortney     Кортни\n",
       "4819     Roslyn     Розлин\n",
       "1308      Miner     Майнер\n",
       "4580   Pricilla  Присцилла\n",
       "6244  Audrianna   Одрианна"
      ]
     },
     "execution_count": 172,
     "metadata": {},
     "output_type": "execute_result"
    }
   ],
   "source": [
    "df = pd.read_csv('./data/Names.csv')\n",
    "\n",
    "df.sample(5)"
   ]
  },
  {
   "cell_type": "code",
   "execution_count": 173,
   "metadata": {
    "id": "7yvWppMTwYX8"
   },
   "outputs": [],
   "source": [
    "SPECIAL_TOKENS = [\"<PAD>\", \"<SOS>\", \"<EOS>\"]\n",
    "\n",
    "def build_vocab(series, special_tokens=SPECIAL_TOKENS):\n",
    "    chars = sorted(set(''.join(series).lower()))\n",
    "    tokens = special_tokens + chars\n",
    "    token2id = {ch: idx for idx, ch in enumerate(tokens)}\n",
    "    id2token = {idx: ch for ch, idx in token2id.items()}\n",
    "    vocab_size = len(token2id)\n",
    "    pad_idx = token2id[\"<PAD>\"]\n",
    "    sos_idx = token2id[\"<SOS>\"]\n",
    "    eos_idx = token2id[\"<EOS>\"]\n",
    "    return {\n",
    "        \"tokens\": tokens,\n",
    "        \"token2id\": token2id,\n",
    "        \"id2token\": id2token,\n",
    "        \"vocab_size\": vocab_size,\n",
    "        \"pad_idx\": pad_idx,\n",
    "        \"sos_idx\": sos_idx,\n",
    "        \"eos_idx\": eos_idx,\n",
    "    }"
   ]
  },
  {
   "cell_type": "code",
   "execution_count": 174,
   "metadata": {
    "id": "J74V7acbvwIg"
   },
   "outputs": [],
   "source": [
    "eng_vocab = build_vocab(df['English'])\n",
    "\n",
    "EN_TOKEN2ID = eng_vocab[\"token2id\"]\n",
    "EN_ID2TOKEN = eng_vocab[\"id2token\"]\n",
    "EN_VOCAB_SIZE = eng_vocab[\"vocab_size\"]\n",
    "EN_PAD_IDX = eng_vocab[\"pad_idx\"]\n",
    "EN_SOS_IDX = eng_vocab[\"sos_idx\"]\n",
    "EN_EOS_IDX = eng_vocab[\"eos_idx\"]\n",
    "\n",
    "ru_vocab = build_vocab(df['Russian'])\n",
    "\n",
    "RU_TOKEN2ID = ru_vocab[\"token2id\"]\n",
    "RU_ID2TOKEN = ru_vocab[\"id2token\"]\n",
    "RU_VOCAB_SIZE = ru_vocab[\"vocab_size\"]\n",
    "RU_PAD_IDX = ru_vocab[\"pad_idx\"]\n",
    "RU_SOS_IDX = ru_vocab[\"sos_idx\"]\n",
    "RU_EOS_IDX = ru_vocab[\"eos_idx\"]"
   ]
  },
  {
   "cell_type": "code",
   "execution_count": 175,
   "metadata": {
    "id": "cNr87SJgu5j5"
   },
   "outputs": [],
   "source": [
    "def process_and_encode_names(series, token2id, pad_token=\"<PAD>\", sos_token=\"<SOS>\", eos_token=\"<EOS>\"):\n",
    "    processed = series.apply(lambda x: [sos_token] + list(x.lower()) + [eos_token])\n",
    "    max_len = processed.apply(len).max()\n",
    "    padded = processed.apply(lambda seq: seq + [pad_token] * (max_len - len(seq)))\n",
    "    encoded = padded.apply(lambda seq: [token2id[ch] for ch in seq])\n",
    "    return encoded, max_len"
   ]
  },
  {
   "cell_type": "code",
   "execution_count": 176,
   "metadata": {
    "id": "9gB6xhZDu683"
   },
   "outputs": [],
   "source": [
    "df['EnEncoded'], MAX_EN_LEN = process_and_encode_names(df['English'], EN_TOKEN2ID)\n",
    "df['RuEncoded'], MAX_RU_LEN = process_and_encode_names(df['Russian'], RU_TOKEN2ID)"
   ]
  },
  {
   "cell_type": "code",
   "execution_count": 177,
   "metadata": {
    "colab": {
     "base_uri": "https://localhost:8080/",
     "height": 206
    },
    "id": "owNBVtmOBF1s",
    "outputId": "39a09828-82bf-4bca-ff54-1d6ac9a06274"
   },
   "outputs": [
    {
     "data": {
      "application/vnd.google.colaboratory.intrinsic+json": {
       "summary": "{\n  \"name\": \"df\",\n  \"rows\": 5,\n  \"fields\": [\n    {\n      \"column\": \"English\",\n      \"properties\": {\n        \"dtype\": \"string\",\n        \"num_unique_values\": 5,\n        \"samples\": [\n          \"Benjamin\",\n          \"Louisiana\",\n          \"Greene\"\n        ],\n        \"semantic_type\": \"\",\n        \"description\": \"\"\n      }\n    },\n    {\n      \"column\": \"Russian\",\n      \"properties\": {\n        \"dtype\": \"string\",\n        \"num_unique_values\": 5,\n        \"samples\": [\n          \"\\u0411\\u0435\\u043d\\u0434\\u0436\\u0430\\u043c\\u0438\\u043d\",\n          \"\\u041b\\u0443\\u0438\\u0437\\u0438\\u0430\\u043d\\u0430\",\n          \"\\u0413\\u0440\\u0438\\u043d\"\n        ],\n        \"semantic_type\": \"\",\n        \"description\": \"\"\n      }\n    },\n    {\n      \"column\": \"EnEncoded\",\n      \"properties\": {\n        \"dtype\": \"object\",\n        \"semantic_type\": \"\",\n        \"description\": \"\"\n      }\n    },\n    {\n      \"column\": \"RuEncoded\",\n      \"properties\": {\n        \"dtype\": \"object\",\n        \"semantic_type\": \"\",\n        \"description\": \"\"\n      }\n    }\n  ]\n}",
       "type": "dataframe"
      },
      "text/html": [
       "\n",
       "  <div id=\"df-a0cf4222-85f8-44f1-a293-3dd2e2a42ae5\" class=\"colab-df-container\">\n",
       "    <div>\n",
       "<style scoped>\n",
       "    .dataframe tbody tr th:only-of-type {\n",
       "        vertical-align: middle;\n",
       "    }\n",
       "\n",
       "    .dataframe tbody tr th {\n",
       "        vertical-align: top;\n",
       "    }\n",
       "\n",
       "    .dataframe thead th {\n",
       "        text-align: right;\n",
       "    }\n",
       "</style>\n",
       "<table border=\"1\" class=\"dataframe\">\n",
       "  <thead>\n",
       "    <tr style=\"text-align: right;\">\n",
       "      <th></th>\n",
       "      <th>English</th>\n",
       "      <th>Russian</th>\n",
       "      <th>EnEncoded</th>\n",
       "      <th>RuEncoded</th>\n",
       "    </tr>\n",
       "  </thead>\n",
       "  <tbody>\n",
       "    <tr>\n",
       "      <th>3355</th>\n",
       "      <td>Malaki</td>\n",
       "      <td>Малаки</td>\n",
       "      <td>[1, 15, 3, 14, 3, 13, 11, 2, 0, 0, 0, 0, 0]</td>\n",
       "      <td>[1, 15, 3, 14, 3, 13, 11, 2, 0, 0, 0, 0, 0, 0]</td>\n",
       "    </tr>\n",
       "    <tr>\n",
       "      <th>31</th>\n",
       "      <td>Benjamin</td>\n",
       "      <td>Бенджамин</td>\n",
       "      <td>[1, 4, 7, 16, 12, 3, 15, 11, 16, 2, 0, 0, 0]</td>\n",
       "      <td>[1, 4, 8, 16, 7, 9, 3, 15, 11, 16, 2, 0, 0, 0]</td>\n",
       "    </tr>\n",
       "    <tr>\n",
       "      <th>1294</th>\n",
       "      <td>Greene</td>\n",
       "      <td>Грин</td>\n",
       "      <td>[1, 9, 20, 7, 7, 16, 7, 2, 0, 0, 0, 0, 0]</td>\n",
       "      <td>[1, 6, 19, 11, 16, 2, 0, 0, 0, 0, 0, 0, 0, 0]</td>\n",
       "    </tr>\n",
       "    <tr>\n",
       "      <th>6326</th>\n",
       "      <td>Hailee</td>\n",
       "      <td>Хейли</td>\n",
       "      <td>[1, 10, 3, 11, 14, 7, 7, 2, 0, 0, 0, 0, 0]</td>\n",
       "      <td>[1, 24, 8, 12, 14, 11, 2, 0, 0, 0, 0, 0, 0, 0]</td>\n",
       "    </tr>\n",
       "    <tr>\n",
       "      <th>4590</th>\n",
       "      <td>Louisiana</td>\n",
       "      <td>Луизиана</td>\n",
       "      <td>[1, 14, 17, 23, 11, 21, 11, 3, 16, 3, 2, 0, 0]</td>\n",
       "      <td>[1, 14, 22, 11, 10, 11, 3, 16, 3, 2, 0, 0, 0, 0]</td>\n",
       "    </tr>\n",
       "  </tbody>\n",
       "</table>\n",
       "</div>\n",
       "    <div class=\"colab-df-buttons\">\n",
       "\n",
       "  <div class=\"colab-df-container\">\n",
       "    <button class=\"colab-df-convert\" onclick=\"convertToInteractive('df-a0cf4222-85f8-44f1-a293-3dd2e2a42ae5')\"\n",
       "            title=\"Convert this dataframe to an interactive table.\"\n",
       "            style=\"display:none;\">\n",
       "\n",
       "  <svg xmlns=\"http://www.w3.org/2000/svg\" height=\"24px\" viewBox=\"0 -960 960 960\">\n",
       "    <path d=\"M120-120v-720h720v720H120Zm60-500h600v-160H180v160Zm220 220h160v-160H400v160Zm0 220h160v-160H400v160ZM180-400h160v-160H180v160Zm440 0h160v-160H620v160ZM180-180h160v-160H180v160Zm440 0h160v-160H620v160Z\"/>\n",
       "  </svg>\n",
       "    </button>\n",
       "\n",
       "  <style>\n",
       "    .colab-df-container {\n",
       "      display:flex;\n",
       "      gap: 12px;\n",
       "    }\n",
       "\n",
       "    .colab-df-convert {\n",
       "      background-color: #E8F0FE;\n",
       "      border: none;\n",
       "      border-radius: 50%;\n",
       "      cursor: pointer;\n",
       "      display: none;\n",
       "      fill: #1967D2;\n",
       "      height: 32px;\n",
       "      padding: 0 0 0 0;\n",
       "      width: 32px;\n",
       "    }\n",
       "\n",
       "    .colab-df-convert:hover {\n",
       "      background-color: #E2EBFA;\n",
       "      box-shadow: 0px 1px 2px rgba(60, 64, 67, 0.3), 0px 1px 3px 1px rgba(60, 64, 67, 0.15);\n",
       "      fill: #174EA6;\n",
       "    }\n",
       "\n",
       "    .colab-df-buttons div {\n",
       "      margin-bottom: 4px;\n",
       "    }\n",
       "\n",
       "    [theme=dark] .colab-df-convert {\n",
       "      background-color: #3B4455;\n",
       "      fill: #D2E3FC;\n",
       "    }\n",
       "\n",
       "    [theme=dark] .colab-df-convert:hover {\n",
       "      background-color: #434B5C;\n",
       "      box-shadow: 0px 1px 3px 1px rgba(0, 0, 0, 0.15);\n",
       "      filter: drop-shadow(0px 1px 2px rgba(0, 0, 0, 0.3));\n",
       "      fill: #FFFFFF;\n",
       "    }\n",
       "  </style>\n",
       "\n",
       "    <script>\n",
       "      const buttonEl =\n",
       "        document.querySelector('#df-a0cf4222-85f8-44f1-a293-3dd2e2a42ae5 button.colab-df-convert');\n",
       "      buttonEl.style.display =\n",
       "        google.colab.kernel.accessAllowed ? 'block' : 'none';\n",
       "\n",
       "      async function convertToInteractive(key) {\n",
       "        const element = document.querySelector('#df-a0cf4222-85f8-44f1-a293-3dd2e2a42ae5');\n",
       "        const dataTable =\n",
       "          await google.colab.kernel.invokeFunction('convertToInteractive',\n",
       "                                                    [key], {});\n",
       "        if (!dataTable) return;\n",
       "\n",
       "        const docLinkHtml = 'Like what you see? Visit the ' +\n",
       "          '<a target=\"_blank\" href=https://colab.research.google.com/notebooks/data_table.ipynb>data table notebook</a>'\n",
       "          + ' to learn more about interactive tables.';\n",
       "        element.innerHTML = '';\n",
       "        dataTable['output_type'] = 'display_data';\n",
       "        await google.colab.output.renderOutput(dataTable, element);\n",
       "        const docLink = document.createElement('div');\n",
       "        docLink.innerHTML = docLinkHtml;\n",
       "        element.appendChild(docLink);\n",
       "      }\n",
       "    </script>\n",
       "  </div>\n",
       "\n",
       "\n",
       "    <div id=\"df-e93ca983-03f4-4cd3-9f68-c3a9a3c6b20f\">\n",
       "      <button class=\"colab-df-quickchart\" onclick=\"quickchart('df-e93ca983-03f4-4cd3-9f68-c3a9a3c6b20f')\"\n",
       "                title=\"Suggest charts\"\n",
       "                style=\"display:none;\">\n",
       "\n",
       "<svg xmlns=\"http://www.w3.org/2000/svg\" height=\"24px\"viewBox=\"0 0 24 24\"\n",
       "     width=\"24px\">\n",
       "    <g>\n",
       "        <path d=\"M19 3H5c-1.1 0-2 .9-2 2v14c0 1.1.9 2 2 2h14c1.1 0 2-.9 2-2V5c0-1.1-.9-2-2-2zM9 17H7v-7h2v7zm4 0h-2V7h2v10zm4 0h-2v-4h2v4z\"/>\n",
       "    </g>\n",
       "</svg>\n",
       "      </button>\n",
       "\n",
       "<style>\n",
       "  .colab-df-quickchart {\n",
       "      --bg-color: #E8F0FE;\n",
       "      --fill-color: #1967D2;\n",
       "      --hover-bg-color: #E2EBFA;\n",
       "      --hover-fill-color: #174EA6;\n",
       "      --disabled-fill-color: #AAA;\n",
       "      --disabled-bg-color: #DDD;\n",
       "  }\n",
       "\n",
       "  [theme=dark] .colab-df-quickchart {\n",
       "      --bg-color: #3B4455;\n",
       "      --fill-color: #D2E3FC;\n",
       "      --hover-bg-color: #434B5C;\n",
       "      --hover-fill-color: #FFFFFF;\n",
       "      --disabled-bg-color: #3B4455;\n",
       "      --disabled-fill-color: #666;\n",
       "  }\n",
       "\n",
       "  .colab-df-quickchart {\n",
       "    background-color: var(--bg-color);\n",
       "    border: none;\n",
       "    border-radius: 50%;\n",
       "    cursor: pointer;\n",
       "    display: none;\n",
       "    fill: var(--fill-color);\n",
       "    height: 32px;\n",
       "    padding: 0;\n",
       "    width: 32px;\n",
       "  }\n",
       "\n",
       "  .colab-df-quickchart:hover {\n",
       "    background-color: var(--hover-bg-color);\n",
       "    box-shadow: 0 1px 2px rgba(60, 64, 67, 0.3), 0 1px 3px 1px rgba(60, 64, 67, 0.15);\n",
       "    fill: var(--button-hover-fill-color);\n",
       "  }\n",
       "\n",
       "  .colab-df-quickchart-complete:disabled,\n",
       "  .colab-df-quickchart-complete:disabled:hover {\n",
       "    background-color: var(--disabled-bg-color);\n",
       "    fill: var(--disabled-fill-color);\n",
       "    box-shadow: none;\n",
       "  }\n",
       "\n",
       "  .colab-df-spinner {\n",
       "    border: 2px solid var(--fill-color);\n",
       "    border-color: transparent;\n",
       "    border-bottom-color: var(--fill-color);\n",
       "    animation:\n",
       "      spin 1s steps(1) infinite;\n",
       "  }\n",
       "\n",
       "  @keyframes spin {\n",
       "    0% {\n",
       "      border-color: transparent;\n",
       "      border-bottom-color: var(--fill-color);\n",
       "      border-left-color: var(--fill-color);\n",
       "    }\n",
       "    20% {\n",
       "      border-color: transparent;\n",
       "      border-left-color: var(--fill-color);\n",
       "      border-top-color: var(--fill-color);\n",
       "    }\n",
       "    30% {\n",
       "      border-color: transparent;\n",
       "      border-left-color: var(--fill-color);\n",
       "      border-top-color: var(--fill-color);\n",
       "      border-right-color: var(--fill-color);\n",
       "    }\n",
       "    40% {\n",
       "      border-color: transparent;\n",
       "      border-right-color: var(--fill-color);\n",
       "      border-top-color: var(--fill-color);\n",
       "    }\n",
       "    60% {\n",
       "      border-color: transparent;\n",
       "      border-right-color: var(--fill-color);\n",
       "    }\n",
       "    80% {\n",
       "      border-color: transparent;\n",
       "      border-right-color: var(--fill-color);\n",
       "      border-bottom-color: var(--fill-color);\n",
       "    }\n",
       "    90% {\n",
       "      border-color: transparent;\n",
       "      border-bottom-color: var(--fill-color);\n",
       "    }\n",
       "  }\n",
       "</style>\n",
       "\n",
       "      <script>\n",
       "        async function quickchart(key) {\n",
       "          const quickchartButtonEl =\n",
       "            document.querySelector('#' + key + ' button');\n",
       "          quickchartButtonEl.disabled = true;  // To prevent multiple clicks.\n",
       "          quickchartButtonEl.classList.add('colab-df-spinner');\n",
       "          try {\n",
       "            const charts = await google.colab.kernel.invokeFunction(\n",
       "                'suggestCharts', [key], {});\n",
       "          } catch (error) {\n",
       "            console.error('Error during call to suggestCharts:', error);\n",
       "          }\n",
       "          quickchartButtonEl.classList.remove('colab-df-spinner');\n",
       "          quickchartButtonEl.classList.add('colab-df-quickchart-complete');\n",
       "        }\n",
       "        (() => {\n",
       "          let quickchartButtonEl =\n",
       "            document.querySelector('#df-e93ca983-03f4-4cd3-9f68-c3a9a3c6b20f button');\n",
       "          quickchartButtonEl.style.display =\n",
       "            google.colab.kernel.accessAllowed ? 'block' : 'none';\n",
       "        })();\n",
       "      </script>\n",
       "    </div>\n",
       "    </div>\n",
       "  </div>\n"
      ],
      "text/plain": [
       "        English    Russian                                       EnEncoded  \\\n",
       "3355     Malaki     Малаки     [1, 15, 3, 14, 3, 13, 11, 2, 0, 0, 0, 0, 0]   \n",
       "31     Benjamin  Бенджамин    [1, 4, 7, 16, 12, 3, 15, 11, 16, 2, 0, 0, 0]   \n",
       "1294     Greene       Грин       [1, 9, 20, 7, 7, 16, 7, 2, 0, 0, 0, 0, 0]   \n",
       "6326     Hailee      Хейли      [1, 10, 3, 11, 14, 7, 7, 2, 0, 0, 0, 0, 0]   \n",
       "4590  Louisiana   Луизиана  [1, 14, 17, 23, 11, 21, 11, 3, 16, 3, 2, 0, 0]   \n",
       "\n",
       "                                             RuEncoded  \n",
       "3355    [1, 15, 3, 14, 3, 13, 11, 2, 0, 0, 0, 0, 0, 0]  \n",
       "31      [1, 4, 8, 16, 7, 9, 3, 15, 11, 16, 2, 0, 0, 0]  \n",
       "1294     [1, 6, 19, 11, 16, 2, 0, 0, 0, 0, 0, 0, 0, 0]  \n",
       "6326    [1, 24, 8, 12, 14, 11, 2, 0, 0, 0, 0, 0, 0, 0]  \n",
       "4590  [1, 14, 22, 11, 10, 11, 3, 16, 3, 2, 0, 0, 0, 0]  "
      ]
     },
     "execution_count": 177,
     "metadata": {},
     "output_type": "execute_result"
    }
   ],
   "source": [
    "df.sample(5)"
   ]
  },
  {
   "cell_type": "code",
   "execution_count": 178,
   "metadata": {
    "colab": {
     "base_uri": "https://localhost:8080/"
    },
    "id": "7dZf9P-CAR1w",
    "outputId": "f838ae7b-eb1d-4385-804a-70da8cad4f83"
   },
   "outputs": [
    {
     "name": "stdout",
     "output_type": "stream",
     "text": [
      "Train size: 5428\n",
      "Valid size: 679\n",
      "Test size: 679\n"
     ]
    }
   ],
   "source": [
    "train_df, temp_df = train_test_split(df, test_size=0.2, random_state=42)\n",
    "valid_df, test_df = train_test_split(temp_df, test_size=0.5, random_state=42)\n",
    "\n",
    "print(f\"Train size: {len(train_df)}\")\n",
    "print(f\"Valid size: {len(valid_df)}\")\n",
    "print(f\"Test size: {len(test_df)}\")"
   ]
  },
  {
   "cell_type": "markdown",
   "metadata": {
    "id": "CnEr4G10M0u2"
   },
   "source": [
    "### Support Functions"
   ]
  },
  {
   "cell_type": "code",
   "execution_count": 179,
   "metadata": {
    "id": "T3icKTZ0ROtZ"
   },
   "outputs": [],
   "source": [
    "class EarlyStopping:\n",
    "  def __init__(self, patience=5, min_delta=0):\n",
    "    self.patience = patience\n",
    "    self.min_delta = min_delta\n",
    "    self.best_loss = np.inf\n",
    "    self.counter = 0\n",
    "    self.early_stop = False\n",
    "\n",
    "  def __call__(self, val_loss):\n",
    "    if val_loss < self.best_loss - self.min_delta:\n",
    "      self.best_loss = val_loss\n",
    "      self.counter = 0\n",
    "    else:\n",
    "      self.counter += 1\n",
    "      if self.counter >= self.patience:\n",
    "        self.early_stop = True"
   ]
  },
  {
   "cell_type": "code",
   "execution_count": 180,
   "metadata": {
    "id": "0v3w4_36RRYq"
   },
   "outputs": [],
   "source": [
    "def train_encoder_epoch(model, dataloader, criterion, optimizer):\n",
    "  model.train()\n",
    "  total_loss = 0\n",
    "  for x, y in dataloader:\n",
    "    x, y = x.to(device), y.to(device)\n",
    "    optimizer.zero_grad()\n",
    "    logits, _, _ = model(x)\n",
    "    loss = criterion(logits.reshape(-1, logits.size(-1)), y.reshape(-1))\n",
    "    loss.backward()\n",
    "    optimizer.step()\n",
    "    total_loss += loss.item() * x.size(0)\n",
    "  return total_loss / len(dataloader.dataset)\n",
    "\n",
    "def eval_encoder_epoch(model, dataloader, criterion):\n",
    "  model.eval()\n",
    "  total_loss = 0\n",
    "  with torch.no_grad():\n",
    "    for x, y in dataloader:\n",
    "      x, y = x.to(device), y.to(device)\n",
    "      logits, _, _ = model(x)\n",
    "      loss = criterion(logits.reshape(-1, logits.size(-1)), y.reshape(-1))\n",
    "      total_loss += loss.item() * x.size(0)\n",
    "  return total_loss / len(dataloader.dataset)"
   ]
  },
  {
   "cell_type": "code",
   "execution_count": 181,
   "metadata": {
    "id": "UoX4-3rXrLIQ"
   },
   "outputs": [],
   "source": [
    "def generate_name(model, start_token_idx, end_token_idx, max_len=20, temperature=1.0):\n",
    "  model.eval()\n",
    "  name = [start_token_idx]\n",
    "  input_seq = torch.tensor([start_token_idx], device=device).unsqueeze(0)\n",
    "\n",
    "  with torch.no_grad():\n",
    "    hidden = None\n",
    "    for _ in range(max_len):\n",
    "      logits, _, _ = model(input_seq)\n",
    "      logits = logits[:, -1, :] / temperature\n",
    "      probs = torch.softmax(logits, dim=-1)\n",
    "      next_token = torch.multinomial(probs, num_samples=1).item()\n",
    "\n",
    "      if next_token == end_token_idx:\n",
    "          break\n",
    "\n",
    "      name.append(next_token)\n",
    "      input_seq = torch.tensor(name, device=device).unsqueeze(0)\n",
    "\n",
    "    return \"\".join(EN_ID2TOKEN[idx] for idx in name[1:])"
   ]
  },
  {
   "cell_type": "code",
   "execution_count": 182,
   "metadata": {
    "id": "6b5cDD_xM2aa"
   },
   "outputs": [],
   "source": [
    "def train_translation_epoch(encoder, decoder, dataloader, criterion, optimizer, use_attention=False):\n",
    "    decoder.train()\n",
    "    total_loss = 0\n",
    "\n",
    "    for src_batch, tgt_batch in dataloader:\n",
    "        src_batch, tgt_batch = src_batch.to(device), tgt_batch.to(device)\n",
    "        tgt_inp = tgt_batch[:, :-1] # decoder input\n",
    "        tgt_out = tgt_batch[:, 1:]  # expected output\n",
    "\n",
    "        with torch.no_grad():\n",
    "          if use_attention:\n",
    "              _, hidden, encoder_outputs = encoder(src_batch)\n",
    "          else:\n",
    "              _, hidden, _ = encoder(src_batch)\n",
    "\n",
    "        optimizer.zero_grad()\n",
    "\n",
    "        if use_attention:\n",
    "            logits, hidden, _ = decoder(tgt_inp, encoder_outputs, hidden)\n",
    "        else:\n",
    "            logits, _ = decoder(tgt_inp, hidden)\n",
    "\n",
    "        loss = criterion(logits.view(-1, logits.size(-1)), tgt_out.reshape(-1))\n",
    "        loss.backward()\n",
    "        optimizer.step()\n",
    "\n",
    "        total_loss += loss.item() * src_batch.size(0)\n",
    "\n",
    "    return total_loss / len(dataloader.dataset)\n",
    "\n",
    "def eval_translation_epoch(encoder, decoder, dataloader, criterion, use_attention=False):\n",
    "    decoder.eval()\n",
    "    total_loss = 0\n",
    "\n",
    "    with torch.no_grad():\n",
    "      for src_batch, tgt_batch in dataloader:\n",
    "        src_batch, tgt_batch = src_batch.to(device), tgt_batch.to(device)\n",
    "        tgt_inp = tgt_batch[:, :-1]\n",
    "        tgt_out = tgt_batch[:, 1:]\n",
    "\n",
    "        if use_attention:\n",
    "            _, hidden, encoder_outputs = encoder(src_batch)\n",
    "            logits, hidden, _ = decoder(tgt_inp, encoder_outputs, hidden)\n",
    "        else:\n",
    "            _, hidden, _ = encoder(src_batch)\n",
    "            logits, hidden = decoder(tgt_inp, hidden)\n",
    "\n",
    "        loss = criterion(logits.view(-1, logits.size(-1)), tgt_out.reshape(-1))\n",
    "        total_loss += loss.item() * src_batch.size(0)\n",
    "\n",
    "    avg_loss = total_loss / len(dataloader.dataset)\n",
    "    return avg_loss"
   ]
  },
  {
   "cell_type": "code",
   "execution_count": 183,
   "metadata": {
    "id": "jj02bUqVOkii"
   },
   "outputs": [],
   "source": [
    "def plot_loss_curves(train_losses, valid_losses, title):\n",
    "  plt.plot(train_losses, label='Train')\n",
    "  plt.plot(valid_losses, label='Valid')\n",
    "  plt.title(f\"Loss Convergence {title}\")\n",
    "  plt.xlabel(\"Epoch\")\n",
    "  plt.ylabel(\"Loss\")\n",
    "  plt.legend()\n",
    "  plt.grid()\n",
    "  plt.show()"
   ]
  },
  {
   "cell_type": "code",
   "execution_count": 184,
   "metadata": {
    "id": "C3VjYPealkRN"
   },
   "outputs": [],
   "source": [
    "def translate_name(encoder, decoder, src_seq, max_len=20, use_attention=False):\n",
    "  encoder.eval()\n",
    "  decoder.eval()\n",
    "\n",
    "  src_tensor = torch.tensor([src_seq], dtype=torch.long).to(device)\n",
    "\n",
    "  with torch.no_grad():\n",
    "    if use_attention:\n",
    "      _, hidden, encoder_outputs = encoder(src_tensor)\n",
    "    else:\n",
    "      _, hidden, _ = encoder(src_tensor)\n",
    "      encoder_outputs = None\n",
    "\n",
    "  output_tokens = [RU_SOS_IDX]\n",
    "\n",
    "  for _ in range(max_len):\n",
    "    y_input = torch.tensor([output_tokens[-1]], dtype=torch.long).unsqueeze(0).to(device)\n",
    "\n",
    "    if use_attention:\n",
    "      logits, hidden, _ = decoder(y_input, encoder_outputs, hidden)  # unpack 3 outputs here\n",
    "    else:\n",
    "      logits, hidden = decoder(y_input, hidden)  # 2 outputs in non-attention decoder\n",
    "\n",
    "    next_token = logits.argmax(dim=-1).item()\n",
    "\n",
    "    if next_token == RU_EOS_IDX:\n",
    "      break\n",
    "\n",
    "    output_tokens.append(next_token)\n",
    "\n",
    "  return ''.join(RU_ID2TOKEN[idx] for idx in output_tokens[1:])\n",
    "\n",
    "def print_sample_translations(df, encoder, decoder, name=\"Sample\", n=5, use_attention=False):\n",
    "    print(f\"\\n{name} Sample Translations:\")\n",
    "    samples = df.sample(n)\n",
    "\n",
    "    for _, row in samples.iterrows():\n",
    "      en = row['English']\n",
    "      ru_true = row['Russian']\n",
    "      en_encoded = row['EnEncoded']\n",
    "      ru_pred = translate_name(encoder, decoder, en_encoded, use_attention=use_attention)\n",
    "      print(f\"{en} → {ru_pred.capitalize()} (true: {ru_true})\")"
   ]
  },
  {
   "cell_type": "code",
   "execution_count": 185,
   "metadata": {
    "id": "R2ah4X3sPP9B"
   },
   "outputs": [],
   "source": [
    "def evaluate_test_perplexity(encoder, decoder, test_loader, criterion, use_attention=False):\n",
    "    test_loss = eval_translation_epoch(encoder, decoder, test_loader, criterion, use_attention=use_attention)\n",
    "    perplexity = torch.exp(torch.tensor(test_loss)).item()\n",
    "    print(f\"Test Loss: {test_loss:.4f} | Perplexity: {perplexity:.2f}\")"
   ]
  },
  {
   "cell_type": "code",
   "execution_count": 186,
   "metadata": {
    "id": "_TuUwXbVT6u2"
   },
   "outputs": [],
   "source": [
    "def plot_attention_heads(attn_weights, input_tokens, output_tokens, epoch, step, title=\"Multi-Head Attention\", n_cols=3):\n",
    "    \"\"\"\n",
    "    Visualize attention weights from multiple heads for a single example.\n",
    "    \"\"\"\n",
    "    attn = attn_weights[0].detach().cpu().numpy()  # (n_heads, T_dec, T_enc)\n",
    "    n_heads = attn.shape[0]\n",
    "    n_rows = math.ceil(n_heads / n_cols)\n",
    "\n",
    "    fig, axes = plt.subplots(n_rows, n_cols, figsize=(n_cols*4.5, n_rows*4))\n",
    "    axes = np.array(axes).flatten()\n",
    "\n",
    "    for i in range(n_heads):\n",
    "        sns.heatmap(\n",
    "            attn[i], ax=axes[i], cmap='viridis', cbar=False,\n",
    "            xticklabels=input_tokens, yticklabels=output_tokens,\n",
    "            square=True, linewidths=0.3, linecolor='gray'\n",
    "        )\n",
    "        axes[i].set_title(f\"{title} - Head {i+1}\\nEpoch {epoch}, Step {step}\", fontsize=10)\n",
    "        axes[i].tick_params(axis='x', rotation=45)\n",
    "        axes[i].tick_params(axis='y', rotation=0)\n",
    "\n",
    "    # Turn off any extra subplots\n",
    "    for j in range(n_heads, n_rows * n_cols):\n",
    "        axes[j].axis('off')\n",
    "\n",
    "    plt.tight_layout()\n",
    "    plt.show()"
   ]
  },
  {
   "cell_type": "code",
   "execution_count": 187,
   "metadata": {
    "id": "BaPHbLnqT80L"
   },
   "outputs": [],
   "source": [
    "def indices_to_tokens(indices, id2token):\n",
    "    tokens = []\n",
    "    for idx in indices:\n",
    "        token = id2token.get(idx.item())\n",
    "        if token is None:\n",
    "            print(f\"Warning: idx {idx.item()} not in id2token dict\")\n",
    "            token = \"<unk>\"\n",
    "        tokens.append(token)\n",
    "    if \"<eos>\" in tokens:\n",
    "        tokens = tokens[:tokens.index(\"<eos>\") + 1]\n",
    "    return tokens"
   ]
  },
  {
   "cell_type": "code",
   "execution_count": 212,
   "metadata": {
    "id": "fQvEJzsBfR8a"
   },
   "outputs": [],
   "source": [
    "def train_mha_model(\n",
    "    encoder, decoder, train_loader, valid_loader,\n",
    "    criterion, optimizer, early_stopping,\n",
    "    src_id2token, tgt_id2token,\n",
    "    n_epochs=100, n_plot_epochs=15, name=\"Multi-Head Attention\",\n",
    "    fixed_plot_loader=None, plot_sample_index=0, attention_plot_fn=plot_attention_heads):\n",
    "\n",
    "    encoder.eval()\n",
    "    decoder.train()\n",
    "\n",
    "    train_losses = []\n",
    "    valid_losses = []\n",
    "\n",
    "    for epoch in range(1, n_epochs + 1):\n",
    "        train_loss = train_translation_epoch(encoder, decoder, train_loader, criterion, optimizer, use_attention=True)\n",
    "        valid_loss = eval_translation_epoch(encoder, decoder, valid_loader, criterion, use_attention=True)\n",
    "\n",
    "        train_losses.append(train_loss)\n",
    "        valid_losses.append(valid_loss)\n",
    "\n",
    "        if epoch % n_plot_epochs == 0 and fixed_plot_loader is not None:\n",
    "            src_batch, tgt_batch = next(iter(fixed_plot_loader))\n",
    "            src_batch, tgt_batch = src_batch.to(device), tgt_batch.to(device)\n",
    "            tgt_inp = tgt_batch[:, :-1]\n",
    "\n",
    "            with torch.no_grad():\n",
    "                _, hidden, encoder_outputs = encoder(src_batch)\n",
    "                _, _, attn_weights = decoder(tgt_inp, encoder_outputs, hidden)\n",
    "\n",
    "            attention_plot_fn(\n",
    "                attn_weights,\n",
    "                input_tokens=indices_to_tokens(src_batch[plot_sample_index], src_id2token),\n",
    "                output_tokens=indices_to_tokens(tgt_inp[plot_sample_index], tgt_id2token),\n",
    "                epoch=epoch,\n",
    "                step=0,\n",
    "                title=name\n",
    "            )\n",
    "\n",
    "        early_stopping(valid_loss)\n",
    "        if early_stopping.early_stop:\n",
    "            print(f\"Early stopping triggered at epoch {epoch}\")\n",
    "            break\n",
    "\n",
    "    return train_losses, valid_losses"
   ]
  },
  {
   "cell_type": "markdown",
   "metadata": {
    "id": "pr5S_a2jBycb"
   },
   "source": [
    "### RNN Encoder"
   ]
  },
  {
   "cell_type": "code",
   "execution_count": 189,
   "metadata": {
    "id": "-kxH751n6tdT"
   },
   "outputs": [],
   "source": [
    "class RNNEncoder(nn.Module):\n",
    "    def __init__(self, vocab_size, embedding_dim, hidden_dim, pad_idx=None):\n",
    "      super().__init__()\n",
    "      self.embedding = nn.Embedding(vocab_size, embedding_dim, padding_idx=pad_idx)\n",
    "      self.gru = nn.GRU(embedding_dim, hidden_dim, batch_first=True)\n",
    "      self.fc = nn.Linear(hidden_dim, vocab_size)\n",
    "\n",
    "    def forward(self, x):\n",
    "      emb = self.embedding(x)\n",
    "      out, hidden = self.gru(emb)\n",
    "      logits = self.fc(out)\n",
    "      return logits, hidden, out"
   ]
  },
  {
   "cell_type": "code",
   "execution_count": 190,
   "metadata": {
    "id": "6KEKhIc8Dj9S"
   },
   "outputs": [],
   "source": [
    "class NameDataset(Dataset):\n",
    "    def __init__(self, encoded_names):\n",
    "        self.data = encoded_names\n",
    "\n",
    "    def __len__(self):\n",
    "        return len(self.data)\n",
    "\n",
    "    def __getitem__(self, idx):\n",
    "        seq = torch.tensor(self.data[idx], dtype=torch.long)\n",
    "        return seq[:-1], seq[1:]\n",
    "\n",
    "train_ds = NameDataset(train_df['EnEncoded'].tolist())\n",
    "valid_ds = NameDataset(valid_df['EnEncoded'].tolist())\n",
    "\n",
    "train_loader = DataLoader(train_ds, batch_size=128, shuffle=True)\n",
    "valid_loader = DataLoader(valid_ds, batch_size=128)"
   ]
  },
  {
   "cell_type": "code",
   "execution_count": 191,
   "metadata": {
    "colab": {
     "base_uri": "https://localhost:8080/"
    },
    "collapsed": true,
    "id": "ogoy5r-0UfAz",
    "jupyter": {
     "outputs_hidden": true
    },
    "outputId": "f3bbb3e5-4c85-4887-fcc9-cfad0c018502"
   },
   "outputs": [
    {
     "name": "stdout",
     "output_type": "stream",
     "text": [
      "Epoch 1 | Train loss: 2.7865 | Valid loss: 2.4645\n",
      "Epoch 2 | Train loss: 2.3633 | Valid loss: 2.2864\n",
      "Epoch 3 | Train loss: 2.2433 | Valid loss: 2.2162\n",
      "Epoch 4 | Train loss: 2.1819 | Valid loss: 2.1725\n",
      "Epoch 5 | Train loss: 2.1388 | Valid loss: 2.1438\n",
      "Epoch 6 | Train loss: 2.1062 | Valid loss: 2.1154\n",
      "Epoch 7 | Train loss: 2.0772 | Valid loss: 2.0976\n",
      "Epoch 8 | Train loss: 2.0527 | Valid loss: 2.0791\n",
      "Epoch 9 | Train loss: 2.0329 | Valid loss: 2.0677\n",
      "Epoch 10 | Train loss: 2.0128 | Valid loss: 2.0510\n",
      "Epoch 11 | Train loss: 1.9939 | Valid loss: 2.0424\n",
      "Epoch 12 | Train loss: 1.9766 | Valid loss: 2.0276\n",
      "Epoch 13 | Train loss: 1.9587 | Valid loss: 2.0217\n",
      "Epoch 14 | Train loss: 1.9430 | Valid loss: 2.0116\n",
      "Epoch 15 | Train loss: 1.9280 | Valid loss: 2.0017\n",
      "Epoch 16 | Train loss: 1.9115 | Valid loss: 1.9948\n",
      "Epoch 17 | Train loss: 1.8972 | Valid loss: 1.9890\n",
      "Epoch 18 | Train loss: 1.8839 | Valid loss: 1.9788\n",
      "Epoch 19 | Train loss: 1.8701 | Valid loss: 1.9763\n",
      "Epoch 20 | Train loss: 1.8572 | Valid loss: 1.9729\n",
      "Epoch 21 | Train loss: 1.8437 | Valid loss: 1.9663\n",
      "Epoch 22 | Train loss: 1.8308 | Valid loss: 1.9623\n",
      "Epoch 23 | Train loss: 1.8204 | Valid loss: 1.9593\n",
      "Epoch 24 | Train loss: 1.8077 | Valid loss: 1.9573\n",
      "Epoch 25 | Train loss: 1.7967 | Valid loss: 1.9543\n",
      "Epoch 26 | Train loss: 1.7860 | Valid loss: 1.9548\n",
      "Epoch 27 | Train loss: 1.7745 | Valid loss: 1.9544\n",
      "Epoch 28 | Train loss: 1.7628 | Valid loss: 1.9541\n",
      "Epoch 29 | Train loss: 1.7528 | Valid loss: 1.9550\n",
      "Epoch 30 | Train loss: 1.7428 | Valid loss: 1.9532\n",
      "Epoch 31 | Train loss: 1.7348 | Valid loss: 1.9544\n",
      "Epoch 32 | Train loss: 1.7241 | Valid loss: 1.9559\n",
      "Epoch 33 | Train loss: 1.7155 | Valid loss: 1.9497\n",
      "Epoch 34 | Train loss: 1.7055 | Valid loss: 1.9523\n",
      "Epoch 35 | Train loss: 1.6968 | Valid loss: 1.9550\n",
      "Epoch 36 | Train loss: 1.6887 | Valid loss: 1.9536\n",
      "Epoch 37 | Train loss: 1.6800 | Valid loss: 1.9570\n",
      "Epoch 38 | Train loss: 1.6740 | Valid loss: 1.9622\n",
      "Epoch 39 | Train loss: 1.6645 | Valid loss: 1.9594\n",
      "Epoch 40 | Train loss: 1.6567 | Valid loss: 1.9600\n",
      "Early stopping triggered.\n"
     ]
    }
   ],
   "source": [
    "device = torch.device(\"cuda\" if torch.cuda.is_available() else \"cpu\")\n",
    "\n",
    "rnn_encoder = RNNEncoder(EN_VOCAB_SIZE, embedding_dim=64, hidden_dim=128, pad_idx=EN_PAD_IDX).to(device)\n",
    "encoder_criterion = nn.CrossEntropyLoss(ignore_index=EN_PAD_IDX)\n",
    "encoder_optimizer = torch.optim.Adam(rnn_encoder.parameters(), lr=0.001)\n",
    "encoder_early_stopping = EarlyStopping(patience=7, min_delta=0.001)\n",
    "\n",
    "n_epochs = 100\n",
    "for epoch in range(1, n_epochs + 1):\n",
    "    train_loss = train_encoder_epoch(rnn_encoder, train_loader, encoder_criterion, encoder_optimizer)\n",
    "    valid_loss = eval_encoder_epoch(rnn_encoder, valid_loader, encoder_criterion)\n",
    "    print(f\"Epoch {epoch} | Train loss: {train_loss:.4f} | Valid loss: {valid_loss:.4f}\")\n",
    "    encoder_early_stopping(valid_loss)\n",
    "    if encoder_early_stopping.early_stop:\n",
    "      print(\"Early stopping triggered.\")\n",
    "      break"
   ]
  },
  {
   "cell_type": "code",
   "execution_count": 200,
   "metadata": {
    "colab": {
     "base_uri": "https://localhost:8080/"
    },
    "id": "8ygoakF43oR7",
    "outputId": "ebbff925-a3fb-421f-8e6f-7e18988376ea"
   },
   "outputs": [
    {
     "name": "stdout",
     "output_type": "stream",
     "text": [
      "Ina\n",
      "Branson\n",
      "Coraine\n",
      "Rosanna\n",
      "Judy\n",
      "Alayana\n",
      "Landan\n",
      "Mart\n",
      "Signey\n",
      "Malco\n"
     ]
    }
   ],
   "source": [
    "for _ in range(10):\n",
    "  print(generate_name(rnn_encoder, EN_SOS_IDX, EN_EOS_IDX, temperature=0.75).capitalize())"
   ]
  },
  {
   "cell_type": "markdown",
   "metadata": {
    "id": "goyCG7i-8hkw"
   },
   "source": [
    "### RNN Machine Translation"
   ]
  },
  {
   "cell_type": "markdown",
   "metadata": {
    "id": "BkRxufCHr-NH"
   },
   "source": [
    "The goal is to translate English names into Russian character-by-character using a trained RNN encoder and a new RNN decoder."
   ]
  },
  {
   "cell_type": "code",
   "execution_count": 193,
   "metadata": {
    "id": "uVvgAT91DxHb"
   },
   "outputs": [],
   "source": [
    "rnn_encoder.eval()\n",
    "for param in rnn_encoder.parameters():\n",
    "  param.requires_grad = False"
   ]
  },
  {
   "cell_type": "code",
   "execution_count": 194,
   "metadata": {
    "id": "CpXLFUYx8wX7"
   },
   "outputs": [],
   "source": [
    "class RNNDecoder(nn.Module):\n",
    "  def __init__(self, vocab_size, embedding_dim, hidden_dim, pad_idx):\n",
    "    super().__init__()\n",
    "    self.embedding = nn.Embedding(vocab_size, embedding_dim, padding_idx=pad_idx)\n",
    "    self.gru = nn.GRU(embedding_dim, hidden_dim, batch_first=True)\n",
    "    self.fc = nn.Linear(hidden_dim, vocab_size)\n",
    "\n",
    "  def forward(self, y_input, hidden):\n",
    "    embedded = self.embedding(y_input)\n",
    "    output, hidden = self.gru(embedded, hidden) # hidden: from encoder\n",
    "    logits = self.fc(output)\n",
    "    return logits, hidden"
   ]
  },
  {
   "cell_type": "code",
   "execution_count": 195,
   "metadata": {
    "id": "x8sBTBTn-qHM"
   },
   "outputs": [],
   "source": [
    "class NameTranslationDataset(Dataset):\n",
    "    def __init__(self, src_encoded, tgt_encoded):\n",
    "      self.data = list(zip(src_encoded, tgt_encoded))\n",
    "\n",
    "    def __len__(self):\n",
    "      return len(self.data)\n",
    "\n",
    "    def __getitem__(self, idx):\n",
    "      src, tgt = self.data[idx]\n",
    "      eng = torch.tensor(src, dtype=torch.long)\n",
    "      rus = torch.tensor(tgt, dtype=torch.long)\n",
    "      return eng, rus\n",
    "\n",
    "train_ds = NameTranslationDataset(train_df['EnEncoded'].tolist(), train_df['RuEncoded'].tolist())\n",
    "valid_ds = NameTranslationDataset(valid_df['EnEncoded'].tolist(), valid_df['RuEncoded'].tolist())\n",
    "test_ds = NameTranslationDataset(test_df['EnEncoded'].tolist(), test_df['RuEncoded'].tolist())\n",
    "\n",
    "train_loader = DataLoader(train_ds, batch_size=128, shuffle=True)\n",
    "valid_loader = DataLoader(valid_ds, batch_size=128)\n",
    "test_loader = DataLoader(test_ds, batch_size=128)"
   ]
  },
  {
   "cell_type": "code",
   "execution_count": 196,
   "metadata": {
    "colab": {
     "base_uri": "https://localhost:8080/"
    },
    "collapsed": true,
    "id": "gmvYbe5X9bjr",
    "jupyter": {
     "outputs_hidden": true
    },
    "outputId": "c743e4d3-253f-4ff2-a4b9-7e97fd618474"
   },
   "outputs": [
    {
     "name": "stdout",
     "output_type": "stream",
     "text": [
      "Epoch 1 | Train loss: 2.8111 | Valid loss: 2.4767\n",
      "Epoch 2 | Train loss: 2.3452 | Valid loss: 2.2497\n",
      "Epoch 3 | Train loss: 2.1937 | Valid loss: 2.1487\n",
      "Epoch 4 | Train loss: 2.1024 | Valid loss: 2.0801\n",
      "Epoch 5 | Train loss: 2.0366 | Valid loss: 2.0252\n",
      "Epoch 6 | Train loss: 1.9839 | Valid loss: 1.9844\n",
      "Epoch 7 | Train loss: 1.9377 | Valid loss: 1.9469\n",
      "Epoch 8 | Train loss: 1.8944 | Valid loss: 1.9186\n",
      "Epoch 9 | Train loss: 1.8554 | Valid loss: 1.8833\n",
      "Epoch 10 | Train loss: 1.8168 | Valid loss: 1.8471\n",
      "Epoch 11 | Train loss: 1.7819 | Valid loss: 1.8159\n",
      "Epoch 12 | Train loss: 1.7470 | Valid loss: 1.7995\n",
      "Epoch 13 | Train loss: 1.7190 | Valid loss: 1.7761\n",
      "Epoch 14 | Train loss: 1.6917 | Valid loss: 1.7590\n",
      "Epoch 15 | Train loss: 1.6686 | Valid loss: 1.7399\n",
      "Epoch 16 | Train loss: 1.6447 | Valid loss: 1.7277\n",
      "Epoch 17 | Train loss: 1.6190 | Valid loss: 1.7104\n",
      "Epoch 18 | Train loss: 1.6004 | Valid loss: 1.7011\n",
      "Epoch 19 | Train loss: 1.5794 | Valid loss: 1.6834\n",
      "Epoch 20 | Train loss: 1.5603 | Valid loss: 1.6963\n",
      "Epoch 21 | Train loss: 1.5435 | Valid loss: 1.6868\n",
      "Epoch 22 | Train loss: 1.5284 | Valid loss: 1.6569\n",
      "Epoch 23 | Train loss: 1.5055 | Valid loss: 1.6532\n",
      "Epoch 24 | Train loss: 1.4956 | Valid loss: 1.6382\n",
      "Epoch 25 | Train loss: 1.4779 | Valid loss: 1.6348\n",
      "Epoch 26 | Train loss: 1.4584 | Valid loss: 1.6338\n",
      "Epoch 27 | Train loss: 1.4457 | Valid loss: 1.6204\n",
      "Epoch 28 | Train loss: 1.4302 | Valid loss: 1.6143\n",
      "Epoch 29 | Train loss: 1.4143 | Valid loss: 1.6093\n",
      "Epoch 30 | Train loss: 1.4007 | Valid loss: 1.6096\n",
      "Epoch 31 | Train loss: 1.3882 | Valid loss: 1.6035\n",
      "Epoch 32 | Train loss: 1.3727 | Valid loss: 1.5961\n",
      "Epoch 33 | Train loss: 1.3630 | Valid loss: 1.5948\n",
      "Epoch 34 | Train loss: 1.3514 | Valid loss: 1.5929\n",
      "Epoch 35 | Train loss: 1.3397 | Valid loss: 1.5908\n",
      "Epoch 36 | Train loss: 1.3255 | Valid loss: 1.5848\n",
      "Epoch 37 | Train loss: 1.3153 | Valid loss: 1.5756\n",
      "Epoch 38 | Train loss: 1.3034 | Valid loss: 1.5740\n",
      "Epoch 39 | Train loss: 1.2934 | Valid loss: 1.5722\n",
      "Epoch 40 | Train loss: 1.2801 | Valid loss: 1.5677\n",
      "Epoch 41 | Train loss: 1.2683 | Valid loss: 1.5793\n",
      "Epoch 42 | Train loss: 1.2623 | Valid loss: 1.5680\n",
      "Epoch 43 | Train loss: 1.2471 | Valid loss: 1.5586\n",
      "Epoch 44 | Train loss: 1.2391 | Valid loss: 1.5657\n",
      "Epoch 45 | Train loss: 1.2300 | Valid loss: 1.5658\n",
      "Epoch 46 | Train loss: 1.2192 | Valid loss: 1.5628\n",
      "Epoch 47 | Train loss: 1.2109 | Valid loss: 1.5748\n",
      "Epoch 48 | Train loss: 1.2053 | Valid loss: 1.5643\n",
      "Early stopping triggered.\n"
     ]
    }
   ],
   "source": [
    "device = torch.device(\"cuda\" if torch.cuda.is_available() else \"cpu\")\n",
    "\n",
    "rnn_decoder = RNNDecoder(RU_VOCAB_SIZE, embedding_dim=64, hidden_dim=128, pad_idx=RU_PAD_IDX).to(device)\n",
    "decoder_criterion = nn.CrossEntropyLoss(ignore_index=RU_PAD_IDX)\n",
    "decoder_optimizer = torch.optim.Adam(rnn_decoder.parameters(), lr=0.001)\n",
    "decoder_early_stopping = EarlyStopping(patience=5, min_delta=0.001)\n",
    "\n",
    "n_epochs = 100\n",
    "train_losses, valid_losses = [], []\n",
    "\n",
    "for epoch in range(1, n_epochs + 1):\n",
    "    train_loss = train_translation_epoch(rnn_encoder, rnn_decoder, train_loader, decoder_criterion, decoder_optimizer)\n",
    "    valid_loss = eval_translation_epoch(rnn_encoder, rnn_decoder, valid_loader, decoder_criterion)\n",
    "    train_losses.append(train_loss)\n",
    "    valid_losses.append(valid_loss)\n",
    "\n",
    "    print(f\"Epoch {epoch} | Train loss: {train_loss:.4f} | Valid loss: {valid_loss:.4f}\")\n",
    "\n",
    "    decoder_early_stopping(valid_loss)\n",
    "    if decoder_early_stopping.early_stop:\n",
    "        print(\"Early stopping triggered.\")\n",
    "        break"
   ]
  },
  {
   "cell_type": "code",
   "execution_count": 197,
   "metadata": {
    "colab": {
     "base_uri": "https://localhost:8080/",
     "height": 472
    },
    "id": "2mHBaVEsEYVV",
    "outputId": "05e10f14-78b9-44f5-dc7f-326da17c9b46"
   },
   "outputs": [
    {
     "data": {
      "image/png": "[encoded data removed]",
      "text/plain": [
       "<Figure size 640x480 with 1 Axes>"
      ]
     },
     "metadata": {},
     "output_type": "display_data"
    }
   ],
   "source": [
    "plot_loss_curves(train_losses, valid_losses, title='RNN Decoder')"
   ]
  },
  {
   "cell_type": "code",
   "execution_count": 198,
   "metadata": {
    "colab": {
     "base_uri": "https://localhost:8080/"
    },
    "id": "WXgzRcjVJRy6",
    "outputId": "e28b57ab-ddb9-46f3-d7a9-4000da870779"
   },
   "outputs": [
    {
     "name": "stdout",
     "output_type": "stream",
     "text": [
      "\n",
      "Train (No Attention) Sample Translations:\n",
      "Tamala → Татана (true: Тамала)\n",
      "Durell → Кирлел (true: Дюрелл)\n",
      "Fletcher → Даррелл (true: Флетчер)\n",
      "Gwenda → Джамара (true: Гвэнда)\n",
      "Carlota → Катальда (true: Карлота)\n",
      "\n",
      "Valid (No Attention) Sample Translations:\n",
      "Myrtie → Линдиан (true: Мирти)\n",
      "Marci → Мари (true: Марси)\n",
      "Effa → Карло (true: Эффа)\n",
      "Lovina → Лаверия (true: Ловина)\n",
      "Ama → Тай (true: Ама)\n"
     ]
    }
   ],
   "source": [
    "print_sample_translations(train_df, rnn_encoder, rnn_decoder, name=\"Train (No Attention)\", use_attention=False)\n",
    "print_sample_translations(valid_df, rnn_encoder, rnn_decoder, name=\"Valid (No Attention)\", use_attention=False)"
   ]
  },
  {
   "cell_type": "code",
   "execution_count": 199,
   "metadata": {
    "colab": {
     "base_uri": "https://localhost:8080/"
    },
    "id": "Id8e4uQxXsft",
    "outputId": "c2d91531-8403-44be-c1c1-8c9127fe678b"
   },
   "outputs": [
    {
     "name": "stdout",
     "output_type": "stream",
     "text": [
      "Test Loss: 1.6094 | Perplexity: 5.00\n"
     ]
    }
   ],
   "source": [
    "evaluate_test_perplexity(rnn_encoder, rnn_decoder, test_loader, decoder_criterion, use_attention=False)"
   ]
  },
  {
   "cell_type": "markdown",
   "metadata": {
    "id": "XeSnYOeOccKl"
   },
   "source": [
    "### Attention Machine Translation"
   ]
  },
  {
   "cell_type": "code",
   "execution_count": 202,
   "metadata": {
    "id": "dARsNphkgTAt"
   },
   "outputs": [],
   "source": [
    "rnn_encoder.eval()\n",
    "for param in rnn_encoder.parameters():\n",
    "  param.requires_grad = False"
   ]
  },
  {
   "cell_type": "code",
   "execution_count": 203,
   "metadata": {
    "id": "f1TUiehGCmZS"
   },
   "outputs": [],
   "source": [
    "class AttentionDecoder(nn.Module):\n",
    "  def __init__(self, vocab_size, embedding_dim, hidden_dim, pad_idx):\n",
    "    super().__init__()\n",
    "    self.embedding = nn.Embedding(vocab_size, embedding_dim, padding_idx=pad_idx)\n",
    "    self.gru = nn.GRU(embedding_dim + hidden_dim, hidden_dim, batch_first=True)\n",
    "    self.fc = nn.Linear(hidden_dim, vocab_size)\n",
    "\n",
    "  def compute_attention(self, decoder_hidden, encoder_outputs, mask=None):\n",
    "    query = decoder_hidden.transpose(0, 1) # (1, B, H) → (B, 1, H)\n",
    "    attn_scores = torch.bmm(query, encoder_outputs.transpose(1, 2)) # (B, 1, T)\n",
    "    if mask is not None:\n",
    "      attn_scores = attn_scores.masked_fill(mask.unsqueeze(1) == 0, -1e9)\n",
    "    attn_weights = torch.softmax(attn_scores, dim=-1)  # (B, 1, T)\n",
    "    context = torch.bmm(attn_weights, encoder_outputs)  # (B, 1, H)\n",
    "    return context, attn_weights\n",
    "\n",
    "  def forward(self, y_input, encoder_outputs, hidden, src_mask=None):\n",
    "    B, T = y_input.size()\n",
    "    embedded = self.embedding(y_input)  # (B, T, E)\n",
    "\n",
    "    outputs = []\n",
    "    for t in range(T):\n",
    "      y_t = embedded[:, t:t+1, :]  # (B, 1, E)\n",
    "      context, attn_weights = self.compute_attention(hidden, encoder_outputs, mask=src_mask)  # (B, 1, H)\n",
    "      rnn_input = torch.cat([y_t, context], dim=-1)  # (B, 1, E+H)\n",
    "      output, hidden = self.gru(rnn_input, hidden)  # (B, 1, H)\n",
    "      logits = self.fc(output)  # (B, 1, V)\n",
    "      outputs.append(logits)\n",
    "\n",
    "    return torch.cat(outputs, dim=1), hidden, attn_weights # (B, T, V), _, _"
   ]
  },
  {
   "cell_type": "code",
   "execution_count": 204,
   "metadata": {
    "colab": {
     "base_uri": "https://localhost:8080/"
    },
    "collapsed": true,
    "id": "nxkk3za5gqz2",
    "jupyter": {
     "outputs_hidden": true
    },
    "outputId": "e08b7ec2-60c4-4bc4-ad47-d2b4a1561522"
   },
   "outputs": [
    {
     "name": "stdout",
     "output_type": "stream",
     "text": [
      "[Attention] Epoch 1 | Train Loss: 2.7279 | Valid Loss: 2.4348\n",
      "[Attention] Epoch 2 | Train Loss: 2.2800 | Valid Loss: 2.1605\n",
      "[Attention] Epoch 3 | Train Loss: 2.0809 | Valid Loss: 2.0254\n",
      "[Attention] Epoch 4 | Train Loss: 1.9651 | Valid Loss: 1.9398\n",
      "[Attention] Epoch 5 | Train Loss: 1.8802 | Valid Loss: 1.8803\n",
      "[Attention] Epoch 6 | Train Loss: 1.8064 | Valid Loss: 1.8070\n",
      "[Attention] Epoch 7 | Train Loss: 1.7428 | Valid Loss: 1.7639\n",
      "[Attention] Epoch 8 | Train Loss: 1.6947 | Valid Loss: 1.7318\n",
      "[Attention] Epoch 9 | Train Loss: 1.6368 | Valid Loss: 1.6797\n",
      "[Attention] Epoch 10 | Train Loss: 1.5800 | Valid Loss: 1.6235\n",
      "[Attention] Epoch 11 | Train Loss: 1.5172 | Valid Loss: 1.5618\n",
      "[Attention] Epoch 12 | Train Loss: 1.4462 | Valid Loss: 1.5086\n",
      "[Attention] Epoch 13 | Train Loss: 1.3799 | Valid Loss: 1.4558\n",
      "[Attention] Epoch 14 | Train Loss: 1.3167 | Valid Loss: 1.4021\n",
      "[Attention] Epoch 15 | Train Loss: 1.2627 | Valid Loss: 1.3689\n",
      "[Attention] Epoch 16 | Train Loss: 1.2126 | Valid Loss: 1.3369\n",
      "[Attention] Epoch 17 | Train Loss: 1.1686 | Valid Loss: 1.3056\n",
      "[Attention] Epoch 18 | Train Loss: 1.1277 | Valid Loss: 1.2693\n",
      "[Attention] Epoch 19 | Train Loss: 1.0872 | Valid Loss: 1.2449\n",
      "[Attention] Epoch 20 | Train Loss: 1.0464 | Valid Loss: 1.2099\n",
      "[Attention] Epoch 21 | Train Loss: 1.0090 | Valid Loss: 1.1736\n",
      "[Attention] Epoch 22 | Train Loss: 0.9639 | Valid Loss: 1.1430\n",
      "[Attention] Epoch 23 | Train Loss: 0.9245 | Valid Loss: 1.1121\n",
      "[Attention] Epoch 24 | Train Loss: 0.8873 | Valid Loss: 1.0739\n",
      "[Attention] Epoch 25 | Train Loss: 0.8603 | Valid Loss: 1.0635\n",
      "[Attention] Epoch 26 | Train Loss: 0.8251 | Valid Loss: 1.0510\n",
      "[Attention] Epoch 27 | Train Loss: 0.8033 | Valid Loss: 1.0299\n",
      "[Attention] Epoch 28 | Train Loss: 0.7825 | Valid Loss: 1.0223\n",
      "[Attention] Epoch 29 | Train Loss: 0.7684 | Valid Loss: 1.0179\n",
      "[Attention] Epoch 30 | Train Loss: 0.7442 | Valid Loss: 1.0079\n",
      "[Attention] Epoch 31 | Train Loss: 0.7239 | Valid Loss: 0.9957\n",
      "[Attention] Epoch 32 | Train Loss: 0.7030 | Valid Loss: 0.9948\n",
      "[Attention] Epoch 33 | Train Loss: 0.6976 | Valid Loss: 0.9874\n",
      "[Attention] Epoch 34 | Train Loss: 0.6850 | Valid Loss: 0.9878\n",
      "[Attention] Epoch 35 | Train Loss: 0.6713 | Valid Loss: 0.9858\n",
      "[Attention] Epoch 36 | Train Loss: 0.6555 | Valid Loss: 0.9851\n",
      "[Attention] Epoch 37 | Train Loss: 0.6451 | Valid Loss: 0.9742\n",
      "[Attention] Epoch 38 | Train Loss: 0.6382 | Valid Loss: 0.9729\n",
      "[Attention] Epoch 39 | Train Loss: 0.6256 | Valid Loss: 0.9883\n",
      "[Attention] Epoch 40 | Train Loss: 0.6221 | Valid Loss: 0.9740\n",
      "[Attention] Epoch 41 | Train Loss: 0.6099 | Valid Loss: 0.9809\n",
      "[Attention] Epoch 42 | Train Loss: 0.6130 | Valid Loss: 0.9700\n",
      "[Attention] Epoch 43 | Train Loss: 0.6003 | Valid Loss: 0.9629\n",
      "[Attention] Epoch 44 | Train Loss: 0.5872 | Valid Loss: 0.9509\n",
      "[Attention] Epoch 45 | Train Loss: 0.5772 | Valid Loss: 0.9603\n",
      "[Attention] Epoch 46 | Train Loss: 0.5670 | Valid Loss: 0.9606\n",
      "[Attention] Epoch 47 | Train Loss: 0.5591 | Valid Loss: 0.9637\n",
      "[Attention] Epoch 48 | Train Loss: 0.5569 | Valid Loss: 0.9845\n",
      "[Attention] Epoch 49 | Train Loss: 0.5543 | Valid Loss: 0.9656\n",
      "[Attention] Epoch 50 | Train Loss: 0.5418 | Valid Loss: 0.9763\n",
      "[Attention] Epoch 51 | Train Loss: 0.5344 | Valid Loss: 0.9790\n",
      "Early stopping triggered.\n"
     ]
    }
   ],
   "source": [
    "attention_decoder = AttentionDecoder(RU_VOCAB_SIZE, 64, 128, RU_PAD_IDX).to(device)\n",
    "attention_optimizer = torch.optim.Adam(attention_decoder.parameters(), lr=0.001)\n",
    "attention_criterion = nn.CrossEntropyLoss(ignore_index=RU_PAD_IDX)\n",
    "early_stopping = EarlyStopping(patience=7, min_delta=0.001)\n",
    "\n",
    "n_epochs = 100\n",
    "train_losses, valid_losses = [], []\n",
    "\n",
    "for epoch in range(1, n_epochs + 1):\n",
    "    train_loss = train_translation_epoch(rnn_encoder, attention_decoder, train_loader, attention_criterion, attention_optimizer, use_attention=True)\n",
    "    valid_loss = eval_translation_epoch(rnn_encoder, attention_decoder, valid_loader, attention_criterion, use_attention=True)\n",
    "\n",
    "    train_losses.append(train_loss)\n",
    "    valid_losses.append(valid_loss)\n",
    "\n",
    "    print(f\"[Attention] Epoch {epoch} | Train Loss: {train_loss:.4f} | Valid Loss: {valid_loss:.4f}\")\n",
    "\n",
    "    early_stopping(valid_loss)\n",
    "    if early_stopping.early_stop:\n",
    "        print(\"Early stopping triggered.\")\n",
    "        break"
   ]
  },
  {
   "cell_type": "code",
   "execution_count": 205,
   "metadata": {
    "colab": {
     "base_uri": "https://localhost:8080/",
     "height": 472
    },
    "id": "BMQdwFuEgqhQ",
    "outputId": "1145ef46-9b30-48be-f9c1-81a6ebc353b8"
   },
   "outputs": [
    {
     "data": {
      "image/png": "[encoded data removed]",
      "text/plain": [
       "<Figure size 640x480 with 1 Axes>"
      ]
     },
     "metadata": {},
     "output_type": "display_data"
    }
   ],
   "source": [
    "plot_loss_curves(train_losses, valid_losses, title='Attention Decoder')"
   ]
  },
  {
   "cell_type": "code",
   "execution_count": 206,
   "metadata": {
    "colab": {
     "base_uri": "https://localhost:8080/"
    },
    "id": "J2Ac682ZGse7",
    "outputId": "fdd89b0a-1529-49fb-c1d1-edce401430c6"
   },
   "outputs": [
    {
     "name": "stdout",
     "output_type": "stream",
     "text": [
      "\n",
      "Train (Attention) Sample Translations:\n",
      "Jaylen → Джейлен (true: Джейлен)\n",
      "Gustaf → Джастефо (true: Густав)\n",
      "Wilford → Ролфур (true: Уилфорд)\n",
      "Miller → Риллер (true: Миллер)\n",
      "Shannen → Шаннен (true: Шаннен)\n",
      "\n",
      "Valid (Attention) Sample Translations:\n",
      "Tella → Телла (true: Телла)\n",
      "Kyara → Джайра (true: Кьяра)\n",
      "Rella → Релла (true: Релла)\n",
      "Janae → Джани (true: Джанае)\n",
      "Gabriella → Мабрилела (true: Габриэлла)\n"
     ]
    }
   ],
   "source": [
    "print_sample_translations(train_df, rnn_encoder, attention_decoder, name=\"Train (Attention)\", use_attention=True)\n",
    "print_sample_translations(valid_df, rnn_encoder, attention_decoder, name=\"Valid (Attention)\", use_attention=True)"
   ]
  },
  {
   "cell_type": "code",
   "execution_count": 207,
   "metadata": {
    "colab": {
     "base_uri": "https://localhost:8080/"
    },
    "id": "MfmVl4VCgsmG",
    "outputId": "e8ec15f6-fec3-48ae-b2f0-e17c27cdb62e"
   },
   "outputs": [
    {
     "name": "stdout",
     "output_type": "stream",
     "text": [
      "Test Loss: 1.0135 | Perplexity: 2.76\n"
     ]
    }
   ],
   "source": [
    "evaluate_test_perplexity(rnn_encoder, attention_decoder, test_loader, decoder_criterion, use_attention=True)"
   ]
  },
  {
   "cell_type": "markdown",
   "metadata": {
    "id": "Og62si5ZiBC5"
   },
   "source": [
    "### Positional Encoding"
   ]
  },
  {
   "cell_type": "code",
   "execution_count": 40,
   "metadata": {
    "id": "P_H7H71GRmVz"
   },
   "outputs": [],
   "source": [
    "name_train_ds = NameDataset(train_df['EnEncoded'].tolist())\n",
    "name_valid_ds = NameDataset(valid_df['EnEncoded'].tolist())\n",
    "\n",
    "name_train_loader = DataLoader(name_train_ds, batch_size=128, shuffle=True)\n",
    "name_valid_loader = DataLoader(name_valid_ds, batch_size=128)"
   ]
  },
  {
   "cell_type": "code",
   "execution_count": 108,
   "metadata": {
    "id": "pP-ckPEUiCis"
   },
   "outputs": [],
   "source": [
    "def get_positional_encoding(max_len, d_model):\n",
    "  pos_encoding = torch.zeros(max_len, d_model)\n",
    "  positions = torch.arange(0, max_len, dtype=torch.float).unsqueeze(1)\n",
    "  div_term = torch.exp(torch.arange(0, d_model, 2).float() * (-math.log(10000.0) / d_model))\n",
    "\n",
    "  pos_encoding[:, 0::2] = torch.sin(positions * div_term)\n",
    "  pos_encoding[:, 1::2] = torch.cos(positions * div_term)\n",
    "  return pos_encoding"
   ]
  },
  {
   "cell_type": "code",
   "execution_count": 109,
   "metadata": {
    "id": "hwy91cyGiCds"
   },
   "outputs": [],
   "source": [
    "class PositionalRNNEncoder(nn.Module):\n",
    "    def __init__(self, vocab_size, embedding_dim, hidden_dim, pad_idx, max_len=100):\n",
    "        super().__init__()\n",
    "        self.embedding = nn.Embedding(vocab_size, embedding_dim, padding_idx=pad_idx)\n",
    "        self.dropout = nn.Dropout(0.3)\n",
    "        self.register_buffer('positional_encoding', get_positional_encoding(max_len, embedding_dim).unsqueeze(0))\n",
    "        self.gru = nn.GRU(embedding_dim, hidden_dim, batch_first=True)\n",
    "        self.fc = nn.Linear(hidden_dim, vocab_size)\n",
    "\n",
    "    def forward(self, x):\n",
    "        B, T = x.shape\n",
    "        embedded = self.dropout(self.embedding(x))\n",
    "        pe = self.positional_encoding[:, :T, :].to(x.device)\n",
    "        x = embedded + pe\n",
    "        out, hidden = self.gru(x)\n",
    "        logits = self.fc(out)\n",
    "        return logits, hidden, out"
   ]
  },
  {
   "cell_type": "code",
   "execution_count": 110,
   "metadata": {
    "colab": {
     "base_uri": "https://localhost:8080/"
    },
    "collapsed": true,
    "id": "kiGAvbzqXx1Z",
    "jupyter": {
     "outputs_hidden": true
    },
    "outputId": "fc2750d2-0c8d-42fb-b786-640bad45defe"
   },
   "outputs": [
    {
     "name": "stdout",
     "output_type": "stream",
     "text": [
      "[PosEn] Epoch 1 | Train loss: 2.8116 | Valid loss: 2.5370\n",
      "[PosEn] Epoch 2 | Train loss: 2.4666 | Valid loss: 2.3666\n",
      "[PosEn] Epoch 3 | Train loss: 2.3394 | Valid loss: 2.2794\n",
      "[PosEn] Epoch 4 | Train loss: 2.2722 | Valid loss: 2.2271\n",
      "[PosEn] Epoch 5 | Train loss: 2.2269 | Valid loss: 2.1948\n",
      "[PosEn] Epoch 6 | Train loss: 2.1954 | Valid loss: 2.1677\n",
      "[PosEn] Epoch 7 | Train loss: 2.1675 | Valid loss: 2.1474\n",
      "[PosEn] Epoch 8 | Train loss: 2.1459 | Valid loss: 2.1325\n",
      "[PosEn] Epoch 9 | Train loss: 2.1279 | Valid loss: 2.1197\n",
      "[PosEn] Epoch 10 | Train loss: 2.1105 | Valid loss: 2.1061\n",
      "[PosEn] Epoch 11 | Train loss: 2.0991 | Valid loss: 2.0980\n",
      "[PosEn] Epoch 12 | Train loss: 2.0847 | Valid loss: 2.0874\n",
      "[PosEn] Epoch 13 | Train loss: 2.0709 | Valid loss: 2.0788\n",
      "[PosEn] Epoch 14 | Train loss: 2.0588 | Valid loss: 2.0771\n",
      "[PosEn] Epoch 15 | Train loss: 2.0514 | Valid loss: 2.0675\n",
      "[PosEn] Epoch 16 | Train loss: 2.0383 | Valid loss: 2.0570\n",
      "[PosEn] Epoch 17 | Train loss: 2.0311 | Valid loss: 2.0535\n",
      "[PosEn] Epoch 18 | Train loss: 2.0235 | Valid loss: 2.0477\n",
      "[PosEn] Epoch 19 | Train loss: 2.0122 | Valid loss: 2.0426\n",
      "[PosEn] Epoch 20 | Train loss: 2.0034 | Valid loss: 2.0388\n",
      "[PosEn] Epoch 21 | Train loss: 1.9981 | Valid loss: 2.0362\n",
      "[PosEn] Epoch 22 | Train loss: 1.9858 | Valid loss: 2.0319\n",
      "[PosEn] Epoch 23 | Train loss: 1.9814 | Valid loss: 2.0285\n",
      "[PosEn] Epoch 24 | Train loss: 1.9719 | Valid loss: 2.0235\n",
      "[PosEn] Epoch 25 | Train loss: 1.9669 | Valid loss: 2.0220\n",
      "[PosEn] Epoch 26 | Train loss: 1.9635 | Valid loss: 2.0191\n",
      "[PosEn] Epoch 27 | Train loss: 1.9564 | Valid loss: 2.0140\n",
      "[PosEn] Epoch 28 | Train loss: 1.9498 | Valid loss: 2.0111\n",
      "[PosEn] Epoch 29 | Train loss: 1.9433 | Valid loss: 2.0095\n",
      "[PosEn] Epoch 30 | Train loss: 1.9365 | Valid loss: 2.0053\n",
      "[PosEn] Epoch 31 | Train loss: 1.9343 | Valid loss: 2.0047\n",
      "[PosEn] Epoch 32 | Train loss: 1.9265 | Valid loss: 2.0037\n",
      "[PosEn] Epoch 33 | Train loss: 1.9198 | Valid loss: 1.9999\n",
      "[PosEn] Epoch 34 | Train loss: 1.9143 | Valid loss: 1.9999\n",
      "[PosEn] Epoch 35 | Train loss: 1.9103 | Valid loss: 1.9938\n",
      "[PosEn] Epoch 36 | Train loss: 1.9062 | Valid loss: 1.9946\n",
      "[PosEn] Epoch 37 | Train loss: 1.8988 | Valid loss: 1.9926\n",
      "[PosEn] Epoch 38 | Train loss: 1.8940 | Valid loss: 1.9941\n",
      "[PosEn] Epoch 39 | Train loss: 1.8900 | Valid loss: 1.9894\n",
      "[PosEn] Epoch 40 | Train loss: 1.8865 | Valid loss: 1.9879\n",
      "[PosEn] Epoch 41 | Train loss: 1.8800 | Valid loss: 1.9889\n",
      "[PosEn] Epoch 42 | Train loss: 1.8796 | Valid loss: 1.9851\n",
      "[PosEn] Epoch 43 | Train loss: 1.8719 | Valid loss: 1.9850\n",
      "[PosEn] Epoch 44 | Train loss: 1.8681 | Valid loss: 1.9836\n",
      "[PosEn] Epoch 45 | Train loss: 1.8632 | Valid loss: 1.9826\n",
      "[PosEn] Epoch 46 | Train loss: 1.8629 | Valid loss: 1.9801\n",
      "[PosEn] Epoch 47 | Train loss: 1.8542 | Valid loss: 1.9814\n",
      "[PosEn] Epoch 48 | Train loss: 1.8528 | Valid loss: 1.9788\n",
      "[PosEn] Epoch 49 | Train loss: 1.8478 | Valid loss: 1.9770\n",
      "[PosEn] Epoch 50 | Train loss: 1.8455 | Valid loss: 1.9740\n",
      "[PosEn] Epoch 51 | Train loss: 1.8413 | Valid loss: 1.9772\n",
      "[PosEn] Epoch 52 | Train loss: 1.8369 | Valid loss: 1.9732\n",
      "[PosEn] Epoch 53 | Train loss: 1.8325 | Valid loss: 1.9766\n",
      "[PosEn] Epoch 54 | Train loss: 1.8334 | Valid loss: 1.9747\n",
      "[PosEn] Epoch 55 | Train loss: 1.8269 | Valid loss: 1.9720\n",
      "[PosEn] Epoch 56 | Train loss: 1.8248 | Valid loss: 1.9756\n",
      "[PosEn] Epoch 57 | Train loss: 1.8177 | Valid loss: 1.9727\n",
      "[PosEn] Epoch 58 | Train loss: 1.8157 | Valid loss: 1.9764\n",
      "[PosEn] Epoch 59 | Train loss: 1.8127 | Valid loss: 1.9744\n",
      "[PosEn] Epoch 60 | Train loss: 1.8094 | Valid loss: 1.9719\n",
      "[PosEn] Epoch 61 | Train loss: 1.8106 | Valid loss: 1.9751\n",
      "[PosEn] Epoch 62 | Train loss: 1.8053 | Valid loss: 1.9751\n",
      "[PosEn] Epoch 63 | Train loss: 1.8020 | Valid loss: 1.9720\n",
      "[PosEn] Epoch 64 | Train loss: 1.7986 | Valid loss: 1.9744\n",
      "[PosEn] Epoch 65 | Train loss: 1.7969 | Valid loss: 1.9741\n",
      "Early stopping encoder training\n"
     ]
    }
   ],
   "source": [
    "p_rnn_encoder = PositionalRNNEncoder(EN_VOCAB_SIZE, 64, 96, EN_PAD_IDX, MAX_EN_LEN).to(device)\n",
    "optimizer = torch.optim.Adam(p_rnn_encoder.parameters(), lr=0.001)\n",
    "criterion = nn.CrossEntropyLoss(ignore_index=EN_PAD_IDX)\n",
    "early_stopping = EarlyStopping(patience=5)\n",
    "\n",
    "for epoch in range(1, 101):\n",
    "  train_loss = train_encoder_epoch(p_rnn_encoder, name_train_loader, criterion, optimizer)\n",
    "  valid_loss = eval_encoder_epoch(p_rnn_encoder, name_valid_loader, criterion)\n",
    "  print(f\"[PosEn] Epoch {epoch} | Train loss: {train_loss:.4f} | Valid loss: {valid_loss:.4f}\")\n",
    "  early_stopping(valid_loss)\n",
    "  if early_stopping.early_stop:\n",
    "      print(\"Early stopping encoder training\")\n",
    "      break"
   ]
  },
  {
   "cell_type": "code",
   "execution_count": null,
   "metadata": {
    "colab": {
     "base_uri": "https://localhost:8080/"
    },
    "collapsed": true,
    "id": "95mCdhiSiB7g",
    "jupyter": {
     "outputs_hidden": true
    },
    "outputId": "f6aa561b-0253-44e0-fe04-d54d57963aad"
   },
   "outputs": [
    {
     "name": "stdout",
     "output_type": "stream",
     "text": [
      "[RNN] Epoch 1 | Train Loss: 2.8033 | Valid Loss: 2.4264\n",
      "[RNN] Epoch 2 | Train Loss: 2.2858 | Valid Loss: 2.1812\n",
      "[RNN] Epoch 3 | Train Loss: 2.1054 | Valid Loss: 2.0559\n",
      "[RNN] Epoch 4 | Train Loss: 1.9947 | Valid Loss: 1.9648\n",
      "[RNN] Epoch 5 | Train Loss: 1.9169 | Valid Loss: 1.8963\n",
      "[RNN] Epoch 6 | Train Loss: 1.8535 | Valid Loss: 1.8442\n",
      "[RNN] Epoch 7 | Train Loss: 1.8007 | Valid Loss: 1.7981\n",
      "[RNN] Epoch 8 | Train Loss: 1.7493 | Valid Loss: 1.7534\n",
      "[RNN] Epoch 9 | Train Loss: 1.7037 | Valid Loss: 1.7160\n",
      "[RNN] Epoch 10 | Train Loss: 1.6634 | Valid Loss: 1.6863\n",
      "[RNN] Epoch 11 | Train Loss: 1.6283 | Valid Loss: 1.6498\n",
      "[RNN] Epoch 12 | Train Loss: 1.5939 | Valid Loss: 1.6305\n",
      "[RNN] Epoch 13 | Train Loss: 1.5625 | Valid Loss: 1.6192\n",
      "[RNN] Epoch 14 | Train Loss: 1.5348 | Valid Loss: 1.5777\n",
      "[RNN] Epoch 15 | Train Loss: 1.5045 | Valid Loss: 1.5696\n",
      "[RNN] Epoch 16 | Train Loss: 1.4831 | Valid Loss: 1.5457\n",
      "[RNN] Epoch 17 | Train Loss: 1.4545 | Valid Loss: 1.5272\n",
      "[RNN] Epoch 18 | Train Loss: 1.4287 | Valid Loss: 1.5211\n",
      "[RNN] Epoch 19 | Train Loss: 1.4133 | Valid Loss: 1.5194\n",
      "[RNN] Epoch 20 | Train Loss: 1.3892 | Valid Loss: 1.4885\n",
      "[RNN] Epoch 21 | Train Loss: 1.3712 | Valid Loss: 1.4831\n",
      "[RNN] Epoch 22 | Train Loss: 1.3475 | Valid Loss: 1.4713\n",
      "[RNN] Epoch 23 | Train Loss: 1.3328 | Valid Loss: 1.4537\n",
      "[RNN] Epoch 24 | Train Loss: 1.3174 | Valid Loss: 1.4596\n",
      "[RNN] Epoch 25 | Train Loss: 1.2993 | Valid Loss: 1.4381\n",
      "[RNN] Epoch 26 | Train Loss: 1.2763 | Valid Loss: 1.4294\n",
      "[RNN] Epoch 27 | Train Loss: 1.2594 | Valid Loss: 1.4243\n",
      "[RNN] Epoch 28 | Train Loss: 1.2467 | Valid Loss: 1.4181\n",
      "[RNN] Epoch 29 | Train Loss: 1.2299 | Valid Loss: 1.4227\n",
      "[RNN] Epoch 30 | Train Loss: 1.2185 | Valid Loss: 1.4060\n",
      "[RNN] Epoch 31 | Train Loss: 1.2039 | Valid Loss: 1.3944\n",
      "[RNN] Epoch 32 | Train Loss: 1.1901 | Valid Loss: 1.3887\n",
      "[RNN] Epoch 33 | Train Loss: 1.1716 | Valid Loss: 1.3879\n",
      "[RNN] Epoch 34 | Train Loss: 1.1595 | Valid Loss: 1.3855\n",
      "[RNN] Epoch 35 | Train Loss: 1.1444 | Valid Loss: 1.3774\n",
      "[RNN] Epoch 36 | Train Loss: 1.1325 | Valid Loss: 1.3796\n",
      "[RNN] Epoch 37 | Train Loss: 1.1220 | Valid Loss: 1.3693\n",
      "[RNN] Epoch 38 | Train Loss: 1.1089 | Valid Loss: 1.3670\n",
      "[RNN] Epoch 39 | Train Loss: 1.0991 | Valid Loss: 1.3644\n",
      "[RNN] Epoch 40 | Train Loss: 1.0844 | Valid Loss: 1.3609\n",
      "[RNN] Epoch 41 | Train Loss: 1.0746 | Valid Loss: 1.3553\n",
      "[RNN] Epoch 42 | Train Loss: 1.0603 | Valid Loss: 1.3530\n",
      "[RNN] Epoch 43 | Train Loss: 1.0504 | Valid Loss: 1.3545\n",
      "[RNN] Epoch 44 | Train Loss: 1.0404 | Valid Loss: 1.3577\n",
      "[RNN] Epoch 45 | Train Loss: 1.0292 | Valid Loss: 1.3537\n",
      "[RNN] Epoch 46 | Train Loss: 1.0267 | Valid Loss: 1.3612\n",
      "[RNN] Epoch 47 | Train Loss: 1.0112 | Valid Loss: 1.3556\n",
      "Early stopping (RNN Decoder)\n"
     ]
    }
   ],
   "source": [
    "rnn_decoder = RNNDecoder(RU_VOCAB_SIZE, 64, 128, RU_PAD_IDX).to(device)\n",
    "optimizer_rnn = torch.optim.Adam(rnn_decoder.parameters(), lr=0.001)\n",
    "criterion_rnn = nn.CrossEntropyLoss(ignore_index=RU_PAD_IDX)\n",
    "early_stopping_rnn = EarlyStopping(patience=5)\n",
    "\n",
    "train_losses, valid_losses = [], []\n",
    "\n",
    "for epoch in range(1, 101):\n",
    "    train_loss = train_translation_epoch(p_rnn_encoder, rnn_decoder, train_loader, criterion_rnn, optimizer_rnn, use_attention=False)\n",
    "    valid_loss = eval_translation_epoch(p_rnn_encoder, rnn_decoder, valid_loader, criterion_rnn, use_attention=False)\n",
    "\n",
    "    train_losses.append(train_loss)\n",
    "    valid_losses.append(valid_loss)\n",
    "    print(f\"[RNN] Epoch {epoch} | Train Loss: {train_loss:.4f} | Valid Loss: {valid_loss:.4f}\")\n",
    "\n",
    "    early_stopping_rnn(valid_loss)\n",
    "    if early_stopping_rnn.early_stop:\n",
    "        print(\"Early stopping (RNN Decoder)\")\n",
    "        break"
   ]
  },
  {
   "cell_type": "code",
   "execution_count": null,
   "metadata": {
    "colab": {
     "base_uri": "https://localhost:8080/",
     "height": 472
    },
    "id": "pf94nWLaYmr2",
    "outputId": "4daf9bbd-9f76-475e-cafb-282e0bf31f0d"
   },
   "outputs": [
    {
     "data": {
      "image/png": "[encoded data removed]",
      "text/plain": [
       "<Figure size 640x480 with 1 Axes>"
      ]
     },
     "metadata": {},
     "output_type": "display_data"
    }
   ],
   "source": [
    "plot_loss_curves(train_losses, valid_losses, title=\"RNN Decoder with Positional Encoding\")"
   ]
  },
  {
   "cell_type": "code",
   "execution_count": null,
   "metadata": {
    "colab": {
     "base_uri": "https://localhost:8080/"
    },
    "id": "NOG1chIhZ3_W",
    "outputId": "f5557585-7590-4467-b4f8-3bb1ebe019ae"
   },
   "outputs": [
    {
     "name": "stdout",
     "output_type": "stream",
     "text": [
      "\n",
      "Train (RNN + PE) Sample Translations:\n",
      "Johnnie → Джонни (true: Джонни)\n",
      "Henrietta → Кристиана (true: Генриетта)\n",
      "Saint → Майка (true: Сэйнт)\n",
      "Rhonda → Кариана (true: Ронда)\n",
      "Enola → Нелия (true: Энола)\n",
      "\n",
      "Valid (RNN + PE) Sample Translations:\n",
      "Lucas → Клавер (true: Лукас)\n",
      "Alvie → Альви (true: Алви)\n",
      "Mayra → Майела (true: Майра)\n",
      "Shameka → Макимара (true: Шамека)\n",
      "Deacon → Джереди (true: Дикон)\n"
     ]
    }
   ],
   "source": [
    "print_sample_translations(train_df, p_rnn_encoder, rnn_decoder, use_attention=False, name=\"Train (RNN + PE)\")\n",
    "print_sample_translations(valid_df, p_rnn_encoder, rnn_decoder, use_attention=False, name=\"Valid (RNN + PE)\")"
   ]
  },
  {
   "cell_type": "code",
   "execution_count": null,
   "metadata": {
    "colab": {
     "base_uri": "https://localhost:8080/"
    },
    "id": "DWlP-gVsY4WF",
    "outputId": "3fe19f40-c59f-4bf2-ed93-33a0efaf685a"
   },
   "outputs": [
    {
     "name": "stdout",
     "output_type": "stream",
     "text": [
      "Test Loss: 1.4465 | Perplexity: 4.25\n"
     ]
    }
   ],
   "source": [
    "evaluate_test_perplexity(p_rnn_encoder, rnn_decoder, test_loader, criterion_rnn, use_attention=False)"
   ]
  },
  {
   "cell_type": "code",
   "execution_count": null,
   "metadata": {
    "colab": {
     "base_uri": "https://localhost:8080/"
    },
    "collapsed": true,
    "id": "tlLl7QvpXwwz",
    "jupyter": {
     "outputs_hidden": true
    },
    "outputId": "701eae36-0786-4b64-9a1b-aa1425062997"
   },
   "outputs": [
    {
     "name": "stdout",
     "output_type": "stream",
     "text": [
      "[Attention] Epoch 1 | Train Loss: 2.7218 | Valid Loss: 2.3988\n",
      "[Attention] Epoch 2 | Train Loss: 2.2302 | Valid Loss: 2.0909\n",
      "[Attention] Epoch 3 | Train Loss: 1.9877 | Valid Loss: 1.9143\n",
      "[Attention] Epoch 4 | Train Loss: 1.8469 | Valid Loss: 1.8010\n",
      "[Attention] Epoch 5 | Train Loss: 1.7530 | Valid Loss: 1.7237\n",
      "[Attention] Epoch 6 | Train Loss: 1.6741 | Valid Loss: 1.6567\n",
      "[Attention] Epoch 7 | Train Loss: 1.6068 | Valid Loss: 1.6024\n",
      "[Attention] Epoch 8 | Train Loss: 1.5476 | Valid Loss: 1.5665\n",
      "[Attention] Epoch 9 | Train Loss: 1.4980 | Valid Loss: 1.5142\n",
      "[Attention] Epoch 10 | Train Loss: 1.4426 | Valid Loss: 1.4777\n",
      "[Attention] Epoch 11 | Train Loss: 1.3973 | Valid Loss: 1.4376\n",
      "[Attention] Epoch 12 | Train Loss: 1.3541 | Valid Loss: 1.3969\n",
      "[Attention] Epoch 13 | Train Loss: 1.3111 | Valid Loss: 1.3730\n",
      "[Attention] Epoch 14 | Train Loss: 1.2747 | Valid Loss: 1.3550\n",
      "[Attention] Epoch 15 | Train Loss: 1.2394 | Valid Loss: 1.3230\n",
      "[Attention] Epoch 16 | Train Loss: 1.2013 | Valid Loss: 1.2971\n",
      "[Attention] Epoch 17 | Train Loss: 1.1690 | Valid Loss: 1.2972\n",
      "[Attention] Epoch 18 | Train Loss: 1.1391 | Valid Loss: 1.2600\n",
      "[Attention] Epoch 19 | Train Loss: 1.1055 | Valid Loss: 1.2500\n",
      "[Attention] Epoch 20 | Train Loss: 1.0793 | Valid Loss: 1.2266\n",
      "[Attention] Epoch 21 | Train Loss: 1.0533 | Valid Loss: 1.2234\n",
      "[Attention] Epoch 22 | Train Loss: 1.0290 | Valid Loss: 1.2078\n",
      "[Attention] Epoch 23 | Train Loss: 1.0072 | Valid Loss: 1.2073\n",
      "[Attention] Epoch 24 | Train Loss: 0.9834 | Valid Loss: 1.1810\n",
      "[Attention] Epoch 25 | Train Loss: 0.9601 | Valid Loss: 1.1726\n",
      "[Attention] Epoch 26 | Train Loss: 0.9365 | Valid Loss: 1.1613\n",
      "[Attention] Epoch 27 | Train Loss: 0.9148 | Valid Loss: 1.1481\n",
      "[Attention] Epoch 28 | Train Loss: 0.8985 | Valid Loss: 1.1373\n",
      "[Attention] Epoch 29 | Train Loss: 0.8788 | Valid Loss: 1.1392\n",
      "[Attention] Epoch 30 | Train Loss: 0.8636 | Valid Loss: 1.1304\n",
      "[Attention] Epoch 31 | Train Loss: 0.8501 | Valid Loss: 1.1334\n",
      "[Attention] Epoch 32 | Train Loss: 0.8335 | Valid Loss: 1.1215\n",
      "[Attention] Epoch 33 | Train Loss: 0.8186 | Valid Loss: 1.1289\n",
      "[Attention] Epoch 34 | Train Loss: 0.8014 | Valid Loss: 1.1108\n",
      "[Attention] Epoch 35 | Train Loss: 0.7861 | Valid Loss: 1.1056\n",
      "[Attention] Epoch 36 | Train Loss: 0.7827 | Valid Loss: 1.0991\n",
      "[Attention] Epoch 37 | Train Loss: 0.7640 | Valid Loss: 1.0946\n",
      "[Attention] Epoch 38 | Train Loss: 0.7484 | Valid Loss: 1.0929\n",
      "[Attention] Epoch 39 | Train Loss: 0.7375 | Valid Loss: 1.0887\n",
      "[Attention] Epoch 40 | Train Loss: 0.7269 | Valid Loss: 1.1012\n",
      "[Attention] Epoch 41 | Train Loss: 0.7186 | Valid Loss: 1.0860\n",
      "[Attention] Epoch 42 | Train Loss: 0.7044 | Valid Loss: 1.0876\n",
      "[Attention] Epoch 43 | Train Loss: 0.6962 | Valid Loss: 1.0821\n",
      "[Attention] Epoch 44 | Train Loss: 0.6836 | Valid Loss: 1.0933\n",
      "[Attention] Epoch 45 | Train Loss: 0.6812 | Valid Loss: 1.0870\n",
      "[Attention] Epoch 46 | Train Loss: 0.6668 | Valid Loss: 1.0834\n",
      "[Attention] Epoch 47 | Train Loss: 0.6618 | Valid Loss: 1.1041\n",
      "[Attention] Epoch 48 | Train Loss: 0.6479 | Valid Loss: 1.0935\n",
      "Early stopping (Attention Decoder)\n"
     ]
    }
   ],
   "source": [
    "attn_decoder = AttentionDecoder(RU_VOCAB_SIZE, 64, 128, RU_PAD_IDX).to(device)\n",
    "optimizer_attn = torch.optim.Adam(attn_decoder.parameters(), lr=0.001)\n",
    "criterion_attn = nn.CrossEntropyLoss(ignore_index=RU_PAD_IDX)\n",
    "early_stopping_attn = EarlyStopping(patience=5)\n",
    "\n",
    "train_losses_attn, valid_losses_attn = [], []\n",
    "\n",
    "for epoch in range(1, 101):\n",
    "    train_loss = train_translation_epoch(p_rnn_encoder, attn_decoder, train_loader, criterion_attn, optimizer_attn, use_attention=True)\n",
    "    valid_loss = eval_translation_epoch(p_rnn_encoder, attn_decoder, valid_loader, criterion_attn, use_attention=True)\n",
    "\n",
    "    train_losses_attn.append(train_loss)\n",
    "    valid_losses_attn.append(valid_loss)\n",
    "    print(f\"[Attention] Epoch {epoch} | Train Loss: {train_loss:.4f} | Valid Loss: {valid_loss:.4f}\")\n",
    "\n",
    "    early_stopping_attn(valid_loss)\n",
    "    if early_stopping_attn.early_stop:\n",
    "        print(\"Early stopping (Attention Decoder)\")\n",
    "        break"
   ]
  },
  {
   "cell_type": "code",
   "execution_count": null,
   "metadata": {
    "colab": {
     "base_uri": "https://localhost:8080/",
     "height": 472
    },
    "id": "Dz2PdRnQYY18",
    "outputId": "7d794706-28c8-4dcf-e59c-0ccab3769f83"
   },
   "outputs": [
    {
     "data": {
      "image/png": "[encoded data removed]",
      "text/plain": [
       "<Figure size 640x480 with 1 Axes>"
      ]
     },
     "metadata": {},
     "output_type": "display_data"
    }
   ],
   "source": [
    "plot_loss_curves(train_losses_attn, valid_losses_attn, title=\"Attention Decoder with Positional Encoding\")"
   ]
  },
  {
   "cell_type": "code",
   "execution_count": null,
   "metadata": {
    "colab": {
     "base_uri": "https://localhost:8080/"
    },
    "id": "Lo0eV-a2cfcR",
    "outputId": "767d121d-b9a7-49be-92d6-e1c344b61bde"
   },
   "outputs": [
    {
     "name": "stdout",
     "output_type": "stream",
     "text": [
      "\n",
      "Train (Attention + PE) Sample Translations:\n",
      "Heaven → Кейвен (true: Хэвен)\n",
      "Lue → Лу (true: Лу)\n",
      "Tayla → Тайла (true: Тейла)\n",
      "Christina → Кристина (true: Кристина)\n",
      "Kiarra → Джаварда (true: Киарра)\n",
      "\n",
      "Valid (Attention + PE) Sample Translations:\n",
      "Karyl → Дерикл (true: Карил)\n",
      "Zela → Сеола (true: Зела)\n",
      "Jakobe → Джейми (true: Джейкоби)\n",
      "Julius → Клайус (true: Джулиус)\n",
      "Miracle → Розелл (true: Миракл)\n"
     ]
    }
   ],
   "source": [
    "print_sample_translations(train_df, p_rnn_encoder, attn_decoder, use_attention=True, name=\"Train (Attention + PE)\")\n",
    "print_sample_translations(valid_df, p_rnn_encoder, attn_decoder, use_attention=True, name=\"Valid (Attention + PE)\")"
   ]
  },
  {
   "cell_type": "code",
   "execution_count": null,
   "metadata": {
    "colab": {
     "base_uri": "https://localhost:8080/"
    },
    "id": "-vDimKVRY-YJ",
    "outputId": "44085d55-c1b4-4f53-9f90-13587734986b"
   },
   "outputs": [
    {
     "name": "stdout",
     "output_type": "stream",
     "text": [
      "Test Loss: 1.1497 | Perplexity: 3.16\n"
     ]
    }
   ],
   "source": [
    "evaluate_test_perplexity(p_rnn_encoder, attn_decoder, test_loader, criterion_attn, use_attention=True)"
   ]
  },
  {
   "cell_type": "code",
   "execution_count": 56,
   "metadata": {
    "id": "45J5KwH4amo3"
   },
   "outputs": [],
   "source": [
    "class LearnablePositionalRNNEncoder(nn.Module):\n",
    "    def __init__(self, vocab_size, embedding_dim, hidden_dim, pad_idx, max_len=100, dropout=0.3):\n",
    "        super().__init__()\n",
    "        self.embedding = nn.Embedding(vocab_size, embedding_dim, padding_idx=pad_idx)\n",
    "        self.pos_embedding = nn.Embedding(max_len, embedding_dim)\n",
    "        self.dropout = nn.Dropout(dropout)\n",
    "        self.gru = nn.GRU(embedding_dim, hidden_dim, batch_first=True)\n",
    "        self.fc = nn.Linear(hidden_dim, vocab_size)\n",
    "\n",
    "    def forward(self, x):\n",
    "        B, T = x.size()\n",
    "        token_emb = self.embedding(x)                        # (B, T, E)\n",
    "        pos_ids = torch.arange(T, device=x.device).unsqueeze(0).expand(B, T)  # (B, T)\n",
    "        pos_emb = self.pos_embedding(pos_ids)                # (B, T, E)\n",
    "        x = token_emb + pos_emb                              # (B, T, E)\n",
    "        x = self.dropout(x)\n",
    "        out, hidden = self.gru(x)\n",
    "        logits = self.fc(out)\n",
    "        return logits, hidden, out"
   ]
  },
  {
   "cell_type": "code",
   "execution_count": 64,
   "metadata": {
    "colab": {
     "base_uri": "https://localhost:8080/"
    },
    "collapsed": true,
    "id": "rg8KLEqca3n5",
    "jupyter": {
     "outputs_hidden": true
    },
    "outputId": "7458acca-fa3c-4ad2-9828-fc221f0ee360"
   },
   "outputs": [
    {
     "name": "stdout",
     "output_type": "stream",
     "text": [
      "[Learnable PosEnc] Epoch 1 | Train loss: 2.8209 | Valid loss: 2.5200\n",
      "[Learnable PosEnc] Epoch 2 | Train loss: 2.4588 | Valid loss: 2.3666\n",
      "[Learnable PosEnc] Epoch 3 | Train loss: 2.3561 | Valid loss: 2.2930\n",
      "[Learnable PosEnc] Epoch 4 | Train loss: 2.2968 | Valid loss: 2.2445\n",
      "[Learnable PosEnc] Epoch 5 | Train loss: 2.2531 | Valid loss: 2.2077\n",
      "[Learnable PosEnc] Epoch 6 | Train loss: 2.2207 | Valid loss: 2.1825\n",
      "[Learnable PosEnc] Epoch 7 | Train loss: 2.1974 | Valid loss: 2.1624\n",
      "[Learnable PosEnc] Epoch 8 | Train loss: 2.1733 | Valid loss: 2.1450\n",
      "[Learnable PosEnc] Epoch 9 | Train loss: 2.1600 | Valid loss: 2.1312\n",
      "[Learnable PosEnc] Epoch 10 | Train loss: 2.1412 | Valid loss: 2.1231\n",
      "[Learnable PosEnc] Epoch 11 | Train loss: 2.1257 | Valid loss: 2.1122\n",
      "[Learnable PosEnc] Epoch 12 | Train loss: 2.1112 | Valid loss: 2.0982\n",
      "[Learnable PosEnc] Epoch 13 | Train loss: 2.1000 | Valid loss: 2.0885\n",
      "[Learnable PosEnc] Epoch 14 | Train loss: 2.0878 | Valid loss: 2.0862\n",
      "[Learnable PosEnc] Epoch 15 | Train loss: 2.0723 | Valid loss: 2.0719\n",
      "[Learnable PosEnc] Epoch 16 | Train loss: 2.0643 | Valid loss: 2.0686\n",
      "[Learnable PosEnc] Epoch 17 | Train loss: 2.0549 | Valid loss: 2.0601\n",
      "[Learnable PosEnc] Epoch 18 | Train loss: 2.0452 | Valid loss: 2.0535\n",
      "[Learnable PosEnc] Epoch 19 | Train loss: 2.0339 | Valid loss: 2.0521\n",
      "[Learnable PosEnc] Epoch 20 | Train loss: 2.0292 | Valid loss: 2.0461\n",
      "[Learnable PosEnc] Epoch 21 | Train loss: 2.0194 | Valid loss: 2.0409\n",
      "[Learnable PosEnc] Epoch 22 | Train loss: 2.0102 | Valid loss: 2.0340\n",
      "[Learnable PosEnc] Epoch 23 | Train loss: 2.0075 | Valid loss: 2.0277\n",
      "[Learnable PosEnc] Epoch 24 | Train loss: 1.9995 | Valid loss: 2.0254\n",
      "[Learnable PosEnc] Epoch 25 | Train loss: 1.9913 | Valid loss: 2.0206\n",
      "[Learnable PosEnc] Epoch 26 | Train loss: 1.9862 | Valid loss: 2.0215\n",
      "[Learnable PosEnc] Epoch 27 | Train loss: 1.9776 | Valid loss: 2.0144\n",
      "[Learnable PosEnc] Epoch 28 | Train loss: 1.9722 | Valid loss: 2.0161\n",
      "[Learnable PosEnc] Epoch 29 | Train loss: 1.9641 | Valid loss: 2.0097\n",
      "[Learnable PosEnc] Epoch 30 | Train loss: 1.9614 | Valid loss: 2.0084\n",
      "[Learnable PosEnc] Epoch 31 | Train loss: 1.9529 | Valid loss: 2.0060\n",
      "[Learnable PosEnc] Epoch 32 | Train loss: 1.9473 | Valid loss: 2.0018\n",
      "[Learnable PosEnc] Epoch 33 | Train loss: 1.9427 | Valid loss: 1.9995\n",
      "[Learnable PosEnc] Epoch 34 | Train loss: 1.9412 | Valid loss: 1.9994\n",
      "[Learnable PosEnc] Epoch 35 | Train loss: 1.9341 | Valid loss: 1.9978\n",
      "[Learnable PosEnc] Epoch 36 | Train loss: 1.9273 | Valid loss: 1.9947\n",
      "[Learnable PosEnc] Epoch 37 | Train loss: 1.9239 | Valid loss: 1.9916\n",
      "[Learnable PosEnc] Epoch 38 | Train loss: 1.9173 | Valid loss: 1.9918\n",
      "[Learnable PosEnc] Epoch 39 | Train loss: 1.9148 | Valid loss: 1.9907\n",
      "[Learnable PosEnc] Epoch 40 | Train loss: 1.9084 | Valid loss: 1.9871\n",
      "[Learnable PosEnc] Epoch 41 | Train loss: 1.9047 | Valid loss: 1.9876\n",
      "[Learnable PosEnc] Epoch 42 | Train loss: 1.9044 | Valid loss: 1.9842\n",
      "[Learnable PosEnc] Epoch 43 | Train loss: 1.8952 | Valid loss: 1.9840\n",
      "[Learnable PosEnc] Epoch 44 | Train loss: 1.8941 | Valid loss: 1.9856\n",
      "[Learnable PosEnc] Epoch 45 | Train loss: 1.8905 | Valid loss: 1.9813\n",
      "[Learnable PosEnc] Epoch 46 | Train loss: 1.8868 | Valid loss: 1.9792\n",
      "[Learnable PosEnc] Epoch 47 | Train loss: 1.8795 | Valid loss: 1.9813\n",
      "[Learnable PosEnc] Epoch 48 | Train loss: 1.8786 | Valid loss: 1.9811\n",
      "[Learnable PosEnc] Epoch 49 | Train loss: 1.8759 | Valid loss: 1.9798\n",
      "[Learnable PosEnc] Epoch 50 | Train loss: 1.8715 | Valid loss: 1.9788\n",
      "[Learnable PosEnc] Epoch 51 | Train loss: 1.8647 | Valid loss: 1.9783\n",
      "[Learnable PosEnc] Epoch 52 | Train loss: 1.8602 | Valid loss: 1.9777\n",
      "[Learnable PosEnc] Epoch 53 | Train loss: 1.8592 | Valid loss: 1.9757\n",
      "[Learnable PosEnc] Epoch 54 | Train loss: 1.8557 | Valid loss: 1.9767\n",
      "[Learnable PosEnc] Epoch 55 | Train loss: 1.8545 | Valid loss: 1.9745\n",
      "[Learnable PosEnc] Epoch 56 | Train loss: 1.8481 | Valid loss: 1.9764\n",
      "[Learnable PosEnc] Epoch 57 | Train loss: 1.8462 | Valid loss: 1.9737\n",
      "[Learnable PosEnc] Epoch 58 | Train loss: 1.8450 | Valid loss: 1.9708\n",
      "[Learnable PosEnc] Epoch 59 | Train loss: 1.8395 | Valid loss: 1.9759\n",
      "[Learnable PosEnc] Epoch 60 | Train loss: 1.8384 | Valid loss: 1.9699\n",
      "[Learnable PosEnc] Epoch 61 | Train loss: 1.8333 | Valid loss: 1.9725\n",
      "[Learnable PosEnc] Epoch 62 | Train loss: 1.8343 | Valid loss: 1.9731\n",
      "[Learnable PosEnc] Epoch 63 | Train loss: 1.8302 | Valid loss: 1.9729\n",
      "[Learnable PosEnc] Epoch 64 | Train loss: 1.8247 | Valid loss: 1.9707\n",
      "[Learnable PosEnc] Epoch 65 | Train loss: 1.8217 | Valid loss: 1.9710\n",
      "Early stopping encoder training\n"
     ]
    }
   ],
   "source": [
    "learn_p_rnn_encoder = LearnablePositionalRNNEncoder(EN_VOCAB_SIZE, 64, 96, EN_PAD_IDX, MAX_EN_LEN).to(device)\n",
    "optimizer = torch.optim.Adam(learn_p_rnn_encoder.parameters(), lr=0.001)\n",
    "criterion = nn.CrossEntropyLoss(ignore_index=EN_PAD_IDX)\n",
    "early_stopping = EarlyStopping(patience=5)\n",
    "\n",
    "for epoch in range(1, 101):\n",
    "    train_loss = train_encoder_epoch(learn_p_rnn_encoder, name_train_loader, criterion, optimizer)\n",
    "    valid_loss = eval_encoder_epoch(learn_p_rnn_encoder, name_valid_loader, criterion)\n",
    "    print(f\"[Learnable PosEnc] Epoch {epoch} | Train loss: {train_loss:.4f} | Valid loss: {valid_loss:.4f}\")\n",
    "    early_stopping(valid_loss)\n",
    "    if early_stopping.early_stop:\n",
    "        print(\"Early stopping encoder training\")\n",
    "        break"
   ]
  },
  {
   "cell_type": "code",
   "execution_count": null,
   "metadata": {
    "colab": {
     "base_uri": "https://localhost:8080/"
    },
    "collapsed": true,
    "id": "qlJESowSa9it",
    "jupyter": {
     "outputs_hidden": true
    },
    "outputId": "45a37b1e-a7b9-4ab5-a43a-d4ed858f371e"
   },
   "outputs": [
    {
     "name": "stdout",
     "output_type": "stream",
     "text": [
      "[RNN] Epoch 1 | Train Loss: 2.8156 | Valid Loss: 2.4670\n",
      "[RNN] Epoch 2 | Train Loss: 2.3272 | Valid Loss: 2.2348\n",
      "[RNN] Epoch 3 | Train Loss: 2.1734 | Valid Loss: 2.1365\n",
      "[RNN] Epoch 4 | Train Loss: 2.0920 | Valid Loss: 2.0723\n",
      "[RNN] Epoch 5 | Train Loss: 2.0263 | Valid Loss: 2.0196\n",
      "[RNN] Epoch 6 | Train Loss: 1.9646 | Valid Loss: 1.9694\n",
      "[RNN] Epoch 7 | Train Loss: 1.9034 | Valid Loss: 1.9011\n",
      "[RNN] Epoch 8 | Train Loss: 1.8417 | Valid Loss: 1.8497\n",
      "[RNN] Epoch 9 | Train Loss: 1.7858 | Valid Loss: 1.8332\n",
      "[RNN] Epoch 10 | Train Loss: 1.7402 | Valid Loss: 1.7765\n",
      "[RNN] Epoch 11 | Train Loss: 1.6944 | Valid Loss: 1.7378\n",
      "[RNN] Epoch 12 | Train Loss: 1.6584 | Valid Loss: 1.7174\n",
      "[RNN] Epoch 13 | Train Loss: 1.6259 | Valid Loss: 1.6881\n",
      "[RNN] Epoch 14 | Train Loss: 1.5934 | Valid Loss: 1.6640\n",
      "[RNN] Epoch 15 | Train Loss: 1.5683 | Valid Loss: 1.6434\n",
      "[RNN] Epoch 16 | Train Loss: 1.5420 | Valid Loss: 1.6276\n",
      "[RNN] Epoch 17 | Train Loss: 1.5136 | Valid Loss: 1.6282\n",
      "[RNN] Epoch 18 | Train Loss: 1.4886 | Valid Loss: 1.6056\n",
      "[RNN] Epoch 19 | Train Loss: 1.4655 | Valid Loss: 1.5920\n",
      "[RNN] Epoch 20 | Train Loss: 1.4441 | Valid Loss: 1.5738\n",
      "[RNN] Epoch 21 | Train Loss: 1.4244 | Valid Loss: 1.5594\n",
      "[RNN] Epoch 22 | Train Loss: 1.4038 | Valid Loss: 1.5454\n",
      "[RNN] Epoch 23 | Train Loss: 1.3849 | Valid Loss: 1.5413\n",
      "[RNN] Epoch 24 | Train Loss: 1.3652 | Valid Loss: 1.5275\n",
      "[RNN] Epoch 25 | Train Loss: 1.3516 | Valid Loss: 1.5229\n",
      "[RNN] Epoch 26 | Train Loss: 1.3355 | Valid Loss: 1.5098\n",
      "[RNN] Epoch 27 | Train Loss: 1.3144 | Valid Loss: 1.5015\n",
      "[RNN] Epoch 28 | Train Loss: 1.3047 | Valid Loss: 1.4937\n",
      "[RNN] Epoch 29 | Train Loss: 1.2833 | Valid Loss: 1.4915\n",
      "[RNN] Epoch 30 | Train Loss: 1.2688 | Valid Loss: 1.4911\n",
      "[RNN] Epoch 31 | Train Loss: 1.2608 | Valid Loss: 1.4875\n",
      "[RNN] Epoch 32 | Train Loss: 1.2422 | Valid Loss: 1.4681\n",
      "[RNN] Epoch 33 | Train Loss: 1.2224 | Valid Loss: 1.4635\n",
      "[RNN] Epoch 34 | Train Loss: 1.2114 | Valid Loss: 1.4633\n",
      "[RNN] Epoch 35 | Train Loss: 1.1980 | Valid Loss: 1.4590\n",
      "[RNN] Epoch 36 | Train Loss: 1.1874 | Valid Loss: 1.4601\n",
      "[RNN] Epoch 37 | Train Loss: 1.1751 | Valid Loss: 1.4576\n",
      "[RNN] Epoch 38 | Train Loss: 1.1611 | Valid Loss: 1.4451\n",
      "[RNN] Epoch 39 | Train Loss: 1.1491 | Valid Loss: 1.4443\n",
      "[RNN] Epoch 40 | Train Loss: 1.1343 | Valid Loss: 1.4411\n",
      "[RNN] Epoch 41 | Train Loss: 1.1242 | Valid Loss: 1.4343\n",
      "[RNN] Epoch 42 | Train Loss: 1.1160 | Valid Loss: 1.4386\n",
      "[RNN] Epoch 43 | Train Loss: 1.1017 | Valid Loss: 1.4368\n",
      "[RNN] Epoch 44 | Train Loss: 1.0944 | Valid Loss: 1.4405\n",
      "[RNN] Epoch 45 | Train Loss: 1.0844 | Valid Loss: 1.4282\n",
      "[RNN] Epoch 46 | Train Loss: 1.0756 | Valid Loss: 1.4319\n",
      "[RNN] Epoch 47 | Train Loss: 1.0615 | Valid Loss: 1.4373\n",
      "[RNN] Epoch 48 | Train Loss: 1.0550 | Valid Loss: 1.4299\n",
      "[RNN] Epoch 49 | Train Loss: 1.0449 | Valid Loss: 1.4224\n",
      "[RNN] Epoch 50 | Train Loss: 1.0330 | Valid Loss: 1.4268\n",
      "[RNN] Epoch 51 | Train Loss: 1.0273 | Valid Loss: 1.4395\n",
      "[RNN] Epoch 52 | Train Loss: 1.0194 | Valid Loss: 1.4229\n",
      "[RNN] Epoch 53 | Train Loss: 1.0059 | Valid Loss: 1.4266\n",
      "[RNN] Epoch 54 | Train Loss: 0.9996 | Valid Loss: 1.4239\n",
      "Early stopping (RNN Decoder)\n"
     ]
    }
   ],
   "source": [
    "rnn_decoder = RNNDecoder(RU_VOCAB_SIZE, 64, 128, RU_PAD_IDX).to(device)\n",
    "optimizer_rnn = torch.optim.Adam(rnn_decoder.parameters(), lr=0.001)\n",
    "criterion_rnn = nn.CrossEntropyLoss(ignore_index=RU_PAD_IDX)\n",
    "early_stopping_rnn = EarlyStopping(patience=5)\n",
    "\n",
    "train_losses, valid_losses = [], []\n",
    "\n",
    "for epoch in range(1, 101):\n",
    "    train_loss = train_translation_epoch(learn_p_rnn_encoder, rnn_decoder, train_loader, criterion_rnn, optimizer_rnn, use_attention=False)\n",
    "    valid_loss = eval_translation_epoch(learn_p_rnn_encoder, rnn_decoder, valid_loader, criterion_rnn, use_attention=False)\n",
    "\n",
    "    train_losses.append(train_loss)\n",
    "    valid_losses.append(valid_loss)\n",
    "    print(f\"[RNN + Learnable PE] Epoch {epoch} | Train Loss: {train_loss:.4f} | Valid Loss: {valid_loss:.4f}\")\n",
    "\n",
    "    early_stopping_rnn(valid_loss)\n",
    "    if early_stopping_rnn.early_stop:\n",
    "        print(\"Early stopping (RNN Decoder)\")\n",
    "        break"
   ]
  },
  {
   "cell_type": "code",
   "execution_count": null,
   "metadata": {
    "colab": {
     "base_uri": "https://localhost:8080/"
    },
    "collapsed": true,
    "id": "0sM2PLbTbSHQ",
    "jupyter": {
     "outputs_hidden": true
    },
    "outputId": "065cfe88-a98a-4469-801d-5d604f1606b3"
   },
   "outputs": [
    {
     "name": "stdout",
     "output_type": "stream",
     "text": [
      "[Attention + Learnable PE] Epoch 1 | Train Loss: 2.7141 | Valid Loss: 2.4062\n",
      "[Attention + Learnable PE] Epoch 2 | Train Loss: 2.2400 | Valid Loss: 2.1056\n",
      "[Attention + Learnable PE] Epoch 3 | Train Loss: 2.0120 | Valid Loss: 1.9405\n",
      "[Attention + Learnable PE] Epoch 4 | Train Loss: 1.8654 | Valid Loss: 1.8216\n",
      "[Attention + Learnable PE] Epoch 5 | Train Loss: 1.7474 | Valid Loss: 1.7134\n",
      "[Attention + Learnable PE] Epoch 6 | Train Loss: 1.6327 | Valid Loss: 1.6098\n",
      "[Attention + Learnable PE] Epoch 7 | Train Loss: 1.5250 | Valid Loss: 1.5171\n",
      "[Attention + Learnable PE] Epoch 8 | Train Loss: 1.4177 | Valid Loss: 1.4361\n",
      "[Attention + Learnable PE] Epoch 9 | Train Loss: 1.3237 | Valid Loss: 1.3519\n",
      "[Attention + Learnable PE] Epoch 10 | Train Loss: 1.2430 | Valid Loss: 1.3004\n",
      "[Attention + Learnable PE] Epoch 11 | Train Loss: 1.1762 | Valid Loss: 1.2403\n",
      "[Attention + Learnable PE] Epoch 12 | Train Loss: 1.1197 | Valid Loss: 1.2107\n",
      "[Attention + Learnable PE] Epoch 13 | Train Loss: 1.0678 | Valid Loss: 1.1928\n",
      "[Attention + Learnable PE] Epoch 14 | Train Loss: 1.0293 | Valid Loss: 1.1475\n",
      "[Attention + Learnable PE] Epoch 15 | Train Loss: 0.9907 | Valid Loss: 1.1236\n",
      "[Attention + Learnable PE] Epoch 16 | Train Loss: 0.9578 | Valid Loss: 1.1034\n",
      "[Attention + Learnable PE] Epoch 17 | Train Loss: 0.9300 | Valid Loss: 1.0814\n",
      "[Attention + Learnable PE] Epoch 18 | Train Loss: 0.9014 | Valid Loss: 1.0853\n",
      "[Attention + Learnable PE] Epoch 19 | Train Loss: 0.8816 | Valid Loss: 1.0601\n",
      "[Attention + Learnable PE] Epoch 20 | Train Loss: 0.8584 | Valid Loss: 1.0562\n",
      "[Attention + Learnable PE] Epoch 21 | Train Loss: 0.8398 | Valid Loss: 1.0531\n",
      "[Attention + Learnable PE] Epoch 22 | Train Loss: 0.8177 | Valid Loss: 1.0402\n",
      "[Attention + Learnable PE] Epoch 23 | Train Loss: 0.7992 | Valid Loss: 1.0277\n",
      "[Attention + Learnable PE] Epoch 24 | Train Loss: 0.7808 | Valid Loss: 1.0279\n",
      "[Attention + Learnable PE] Epoch 25 | Train Loss: 0.7630 | Valid Loss: 1.0232\n",
      "[Attention + Learnable PE] Epoch 26 | Train Loss: 0.7514 | Valid Loss: 1.0207\n",
      "[Attention + Learnable PE] Epoch 27 | Train Loss: 0.7348 | Valid Loss: 1.0198\n",
      "[Attention + Learnable PE] Epoch 28 | Train Loss: 0.7245 | Valid Loss: 1.0227\n",
      "[Attention + Learnable PE] Epoch 29 | Train Loss: 0.7170 | Valid Loss: 1.0151\n",
      "[Attention + Learnable PE] Epoch 30 | Train Loss: 0.6957 | Valid Loss: 1.0050\n",
      "[Attention + Learnable PE] Epoch 31 | Train Loss: 0.6882 | Valid Loss: 1.0008\n",
      "[Attention + Learnable PE] Epoch 32 | Train Loss: 0.6781 | Valid Loss: 0.9861\n",
      "[Attention + Learnable PE] Epoch 33 | Train Loss: 0.6643 | Valid Loss: 0.9830\n",
      "[Attention + Learnable PE] Epoch 34 | Train Loss: 0.6523 | Valid Loss: 0.9786\n",
      "[Attention + Learnable PE] Epoch 35 | Train Loss: 0.6436 | Valid Loss: 0.9871\n",
      "[Attention + Learnable PE] Epoch 36 | Train Loss: 0.6321 | Valid Loss: 0.9755\n",
      "[Attention + Learnable PE] Epoch 37 | Train Loss: 0.6240 | Valid Loss: 0.9751\n",
      "[Attention + Learnable PE] Epoch 38 | Train Loss: 0.6081 | Valid Loss: 0.9780\n",
      "[Attention + Learnable PE] Epoch 39 | Train Loss: 0.6025 | Valid Loss: 0.9695\n",
      "[Attention + Learnable PE] Epoch 40 | Train Loss: 0.5937 | Valid Loss: 0.9647\n",
      "[Attention + Learnable PE] Epoch 41 | Train Loss: 0.5865 | Valid Loss: 0.9639\n",
      "[Attention + Learnable PE] Epoch 42 | Train Loss: 0.5853 | Valid Loss: 0.9911\n",
      "[Attention + Learnable PE] Epoch 43 | Train Loss: 0.5958 | Valid Loss: 0.9616\n",
      "[Attention + Learnable PE] Epoch 44 | Train Loss: 0.5683 | Valid Loss: 0.9567\n",
      "[Attention + Learnable PE] Epoch 45 | Train Loss: 0.5555 | Valid Loss: 0.9618\n",
      "[Attention + Learnable PE] Epoch 46 | Train Loss: 0.5495 | Valid Loss: 0.9744\n",
      "[Attention + Learnable PE] Epoch 47 | Train Loss: 0.5447 | Valid Loss: 0.9644\n",
      "[Attention + Learnable PE] Epoch 48 | Train Loss: 0.5401 | Valid Loss: 0.9403\n",
      "[Attention + Learnable PE] Epoch 49 | Train Loss: 0.5362 | Valid Loss: 0.9546\n",
      "[Attention + Learnable PE] Epoch 50 | Train Loss: 0.5240 | Valid Loss: 0.9596\n",
      "[Attention + Learnable PE] Epoch 51 | Train Loss: 0.5161 | Valid Loss: 0.9548\n",
      "[Attention + Learnable PE] Epoch 52 | Train Loss: 0.5122 | Valid Loss: 0.9595\n",
      "[Attention + Learnable PE] Epoch 53 | Train Loss: 0.5040 | Valid Loss: 0.9349\n",
      "[Attention + Learnable PE] Epoch 54 | Train Loss: 0.4978 | Valid Loss: 0.9495\n",
      "[Attention + Learnable PE] Epoch 55 | Train Loss: 0.5106 | Valid Loss: 0.9528\n",
      "[Attention + Learnable PE] Epoch 56 | Train Loss: 0.5025 | Valid Loss: 0.9519\n",
      "[Attention + Learnable PE] Epoch 57 | Train Loss: 0.4868 | Valid Loss: 0.9429\n",
      "[Attention + Learnable PE] Epoch 58 | Train Loss: 0.4882 | Valid Loss: 0.9475\n",
      "Early stopping (Attention Decoder)\n"
     ]
    }
   ],
   "source": [
    "attn_decoder = AttentionDecoder(RU_VOCAB_SIZE, 64, 128, RU_PAD_IDX).to(device)\n",
    "optimizer_attn = torch.optim.Adam(attn_decoder.parameters(), lr=0.001)\n",
    "criterion_attn = nn.CrossEntropyLoss(ignore_index=RU_PAD_IDX)\n",
    "early_stopping_attn = EarlyStopping(patience=5)\n",
    "\n",
    "train_losses_attn, valid_losses_attn = [], []\n",
    "\n",
    "for epoch in range(1, 101):\n",
    "    train_loss = train_translation_epoch(learn_p_rnn_encoder, attn_decoder, train_loader, criterion_attn, optimizer_attn, use_attention=True)\n",
    "    valid_loss = eval_translation_epoch(learn_p_rnn_encoder, attn_decoder, valid_loader, criterion_attn, use_attention=True)\n",
    "\n",
    "    train_losses_attn.append(train_loss)\n",
    "    valid_losses_attn.append(valid_loss)\n",
    "    print(f\"[Attention + Learnable PE] Epoch {epoch} | Train Loss: {train_loss:.4f} | Valid Loss: {valid_loss:.4f}\")\n",
    "\n",
    "    early_stopping_attn(valid_loss)\n",
    "    if early_stopping_attn.early_stop:\n",
    "        print(\"Early stopping (Attention Decoder)\")\n",
    "        break"
   ]
  },
  {
   "cell_type": "code",
   "execution_count": 58,
   "metadata": {
    "id": "IlRnKVL6bD4Z"
   },
   "outputs": [],
   "source": [
    "def visualize_learned_positional_encoding(encoder, max_len=20):\n",
    "    pe = encoder.pos_embedding.weight[:max_len].detach().cpu()  # (max_len, E)\n",
    "    plt.figure(figsize=(10, 6))\n",
    "    plt.imshow(pe.T, aspect=\"auto\", cmap=\"viridis\")\n",
    "    plt.colorbar(label=\"Embedding Value\")\n",
    "    plt.xlabel(\"Position\")\n",
    "    plt.ylabel(\"Embedding Dimension\")\n",
    "    plt.title(\"Learned Positional Encoding\")\n",
    "    plt.show()"
   ]
  },
  {
   "cell_type": "code",
   "execution_count": 66,
   "metadata": {
    "colab": {
     "base_uri": "https://localhost:8080/",
     "height": 564
    },
    "id": "Sts7H862bHff",
    "outputId": "ff5c9d86-cd8e-44e8-a754-fa3563936e45"
   },
   "outputs": [
    {
     "data": {
      "image/png": "[encoded data removed]",
      "text/plain": [
       "<Figure size 1000x600 with 2 Axes>"
      ]
     },
     "metadata": {},
     "output_type": "display_data"
    }
   ],
   "source": [
    "visualize_learned_positional_encoding(learn_p_rnn_encoder)"
   ]
  },
  {
   "cell_type": "markdown",
   "metadata": {
    "id": "raxnpfvccDEC"
   },
   "source": [
    "| **Aspect**                            | **Sine-Cosine (Fixed)**                                     | **Trainable Positional Encoding**                          |\n",
    "|--------------------------------------|--------------------------------------------------------------|-------------------------------------------------------------|\n",
    "| **Inductive Bias**                   | Strong, encodes absolute & relative positions                | None                                                        |\n",
    "| **Generalization to Long Sequences** | Good                                                         | Poor                                                        |\n",
    "| **Flexibility / Adaptability**       | Low (not task-specific)                                      | High (learns from data)                                     |\n",
    "| **Parameters Added**                 | None                                                         | Yes (learnable weights)                                     |\n",
    "| **Risk of Overfitting**              | Low                                                          | Higher (especially on small datasets)                       |\n",
    "| **Performance on Fixed-Length Data** | May underperform                                             | Often better                                                |\n",
    "| **Use in Transformers / RNNs**       | Common in vanilla Transformer models                         | Used in some variants and practical implementations         |\n"
   ]
  },
  {
   "cell_type": "markdown",
   "metadata": {
    "id": "rwIjNaYuiD4B"
   },
   "source": [
    "### Multi-head Attention Machine Translation"
   ]
  },
  {
   "cell_type": "code",
   "execution_count": 213,
   "metadata": {
    "id": "Oul9rcH5bpyG"
   },
   "outputs": [],
   "source": [
    "train_ds = NameTranslationDataset(train_df['EnEncoded'].tolist(), train_df['RuEncoded'].tolist())\n",
    "valid_ds = NameTranslationDataset(valid_df['EnEncoded'].tolist(), valid_df['RuEncoded'].tolist())\n",
    "test_ds = NameTranslationDataset(test_df['EnEncoded'].tolist(), test_df['RuEncoded'].tolist())\n",
    "\n",
    "train_loader = DataLoader(train_ds, batch_size=128, shuffle=True)\n",
    "valid_loader = DataLoader(valid_ds, batch_size=128)\n",
    "test_loader = DataLoader(test_ds, batch_size=128)"
   ]
  },
  {
   "cell_type": "code",
   "execution_count": 214,
   "metadata": {
    "id": "uYVGwmlZiE_S"
   },
   "outputs": [],
   "source": [
    "class MultiHeadAttention(nn.Module):\n",
    "    def __init__(self, embed_dim, n_heads):\n",
    "        super().__init__()\n",
    "        assert embed_dim % n_heads == 0, \"Embedding dimension must be divisible by number of heads\"\n",
    "        self.n_heads = n_heads\n",
    "        self.head_dim = embed_dim // n_heads\n",
    "\n",
    "        self.q_linear = nn.Linear(embed_dim, embed_dim)\n",
    "        self.k_linear = nn.Linear(embed_dim, embed_dim)\n",
    "        self.v_linear = nn.Linear(embed_dim, embed_dim)\n",
    "        self.out_linear = nn.Linear(embed_dim, embed_dim)\n",
    "\n",
    "    def forward(self, q, k, v, mask=None):\n",
    "        batch_size = q.size(0)\n",
    "\n",
    "        # Linear projections\n",
    "        Q = self.q_linear(q)  # (batch, seq_len, embed_dim)\n",
    "        K = self.k_linear(k)\n",
    "        V = self.v_linear(v)\n",
    "\n",
    "        # Split into heads\n",
    "        Q = Q.view(batch_size, -1, self.n_heads, self.head_dim).transpose(1,2)  # (batch, heads, seq_len, head_dim)\n",
    "        K = K.view(batch_size, -1, self.n_heads, self.head_dim).transpose(1,2)\n",
    "        V = V.view(batch_size, -1, self.n_heads, self.head_dim).transpose(1,2)\n",
    "\n",
    "        # Scaled dot-product attention\n",
    "        scores = torch.matmul(Q, K.transpose(-2, -1)) / math.sqrt(self.head_dim)  # (batch, heads, seq_len_q, seq_len_k)\n",
    "        if mask is not None:\n",
    "            scores = scores.masked_fill(mask == 0, float('-inf'))\n",
    "        attn_weights = torch.softmax(scores, dim=-1)  # Attention matrix per head\n",
    "\n",
    "        attn_output = torch.matmul(attn_weights, V)  # (batch, heads, seq_len_q, head_dim)\n",
    "\n",
    "        # Concatenate heads and pass through output linear layer\n",
    "        attn_output = attn_output.transpose(1, 2).contiguous().view(batch_size, -1, self.n_heads * self.head_dim)\n",
    "        output = self.out_linear(attn_output)\n",
    "\n",
    "        return output, attn_weights  # Return attention weights for visualization"
   ]
  },
  {
   "cell_type": "code",
   "execution_count": 215,
   "metadata": {
    "id": "TFvM-wlciFk3"
   },
   "outputs": [],
   "source": [
    "class MultiHeadAttentionDecoder(nn.Module):\n",
    "    def __init__(self, vocab_size, embedding_dim, hidden_dim, pad_idx, n_heads=3, max_len=100):\n",
    "        super().__init__()\n",
    "        assert hidden_dim % n_heads == 0, \"hidden_dim must be divisible by n_heads\"\n",
    "\n",
    "        self.embedding = nn.Embedding(vocab_size, embedding_dim, padding_idx=pad_idx)\n",
    "        self.register_buffer('pos_encoding', get_positional_encoding(max_len, embedding_dim).unsqueeze(0))\n",
    "        self.attn = MultiHeadAttention(hidden_dim, n_heads)\n",
    "        self.gru = nn.GRU(embedding_dim + hidden_dim, hidden_dim, batch_first=True)\n",
    "        self.fc_out = nn.Linear(hidden_dim, vocab_size)\n",
    "\n",
    "    def forward(self, y_input, encoder_outputs, hidden, mask=None):\n",
    "        B, T = y_input.shape\n",
    "\n",
    "        embedded = self.embedding(y_input)  # (B, T, embedding_dim)\n",
    "\n",
    "        # Repeat hidden state as query\n",
    "        query = hidden[-1].unsqueeze(1).repeat(1, T, 1)  # (B, T, hidden_dim)\n",
    "\n",
    "        # Attention\n",
    "        attn_output, attn_weights = self.attn(query, encoder_outputs, encoder_outputs, mask=mask)  # (B, T, hidden_dim)\n",
    "\n",
    "        # Concatenate and run through GRU\n",
    "        gru_input = torch.cat([embedded, attn_output], dim=-1)  # (B, T, embedding_dim + hidden_dim)\n",
    "        output, hidden = self.gru(gru_input, hidden)  # output: (B, T, hidden_dim)\n",
    "\n",
    "        logits = self.fc_out(output)  # (B, T, vocab_size)\n",
    "        return logits, hidden, attn_weights"
   ]
  },
  {
   "cell_type": "code",
   "execution_count": 216,
   "metadata": {
    "colab": {
     "base_uri": "https://localhost:8080/",
     "height": 883
    },
    "id": "8x72KKLypyM-",
    "outputId": "e7e5d6b9-41c9-48d4-9776-c6b3fd25c69b"
   },
   "outputs": [
    {
     "data": {
      "image/png": "[encoded data removed]",
      "text/plain": [
       "<Figure size 1350x400 with 3 Axes>"
      ]
     },
     "metadata": {},
     "output_type": "display_data"
    },
    {
     "data": {
      "image/png": "[encoded data removed]",
      "text/plain": [
       "<Figure size 1350x400 with 3 Axes>"
      ]
     },
     "metadata": {},
     "output_type": "display_data"
    },
    {
     "data": {
      "image/png": "[encoded data removed]",
      "text/plain": [
       "<Figure size 1350x400 with 3 Axes>"
      ]
     },
     "metadata": {},
     "output_type": "display_data"
    },
    {
     "name": "stdout",
     "output_type": "stream",
     "text": [
      "Early stopping triggered at epoch 45\n"
     ]
    }
   ],
   "source": [
    "attn_decoder = MultiHeadAttentionDecoder(\n",
    "    vocab_size=RU_VOCAB_SIZE,\n",
    "    embedding_dim=64,\n",
    "    hidden_dim=96,  # match encoder\n",
    "    pad_idx=RU_PAD_IDX,\n",
    "    n_heads=3,\n",
    "    max_len=MAX_RU_LEN\n",
    ").to(device)\n",
    "\n",
    "optimizer = torch.optim.Adam(attn_decoder.parameters(), lr=0.001)\n",
    "criterion = nn.CrossEntropyLoss(ignore_index=RU_PAD_IDX)\n",
    "early_stopping = EarlyStopping(patience=7, min_delta=0.001)\n",
    "\n",
    "fixed_plot_loader = DataLoader(train_loader.dataset, batch_size=128, shuffle=False)\n",
    "\n",
    "train_losses, valid_losses = train_mha_model(\n",
    "    encoder=p_rnn_encoder,\n",
    "    decoder=attn_decoder,\n",
    "    train_loader=train_loader,\n",
    "    valid_loader=valid_loader,\n",
    "    criterion=criterion,\n",
    "    optimizer=optimizer,\n",
    "    early_stopping=early_stopping,\n",
    "    src_id2token=EN_ID2TOKEN,\n",
    "    tgt_id2token=RU_ID2TOKEN,\n",
    "    n_epochs=100,\n",
    "    name=\"Multi-Head Attention\",\n",
    "    fixed_plot_loader=fixed_plot_loader,\n",
    "    plot_sample_index=15\n",
    ")"
   ]
  },
  {
   "cell_type": "code",
   "execution_count": 217,
   "metadata": {
    "colab": {
     "base_uri": "https://localhost:8080/",
     "height": 472
    },
    "id": "GO2AZC2wkmjL",
    "outputId": "f33911ac-f4c2-4f27-bee9-57aae99d4dcf"
   },
   "outputs": [
    {
     "data": {
      "image/png": "[encoded data removed]",
      "text/plain": [
       "<Figure size 640x480 with 1 Axes>"
      ]
     },
     "metadata": {},
     "output_type": "display_data"
    }
   ],
   "source": [
    "plot_loss_curves(train_losses, valid_losses, title='MHA')"
   ]
  },
  {
   "cell_type": "code",
   "execution_count": 223,
   "metadata": {
    "colab": {
     "base_uri": "https://localhost:8080/"
    },
    "id": "VPy7F3Xwk1FN",
    "outputId": "64d7a6c1-ba19-4b5e-ebad-9432410c6440"
   },
   "outputs": [
    {
     "name": "stdout",
     "output_type": "stream",
     "text": [
      "\n",
      "Train (Attention + PE) Sample Translations:\n",
      "Adalberto → Адабеларто (true: Адальберто)\n",
      "Zackary → Закарио (true: Закари)\n",
      "Leah → Лиан (true: Лия)\n",
      "Zayne → Зайн (true: Зейн)\n",
      "Hazle → Хейзель (true: Хейзел)\n",
      "\n",
      "Valid (Attention + PE) Sample Translations:\n",
      "Candido → Каддион (true: Кандидо)\n",
      "Cruz → Кёрк (true: Круз)\n",
      "Carlee → Карлио (true: Карли)\n",
      "Merrie → Мерис (true: Мерри)\n",
      "Jasen → Дасейс (true: Джейсен)\n"
     ]
    }
   ],
   "source": [
    "print_sample_translations(train_df, p_rnn_encoder, attn_decoder, use_attention=True, name=\"Train (Attention + PE)\")\n",
    "print_sample_translations(valid_df, p_rnn_encoder, attn_decoder, use_attention=True, name=\"Valid (Attention + PE)\")"
   ]
  },
  {
   "cell_type": "code",
   "execution_count": 218,
   "metadata": {
    "colab": {
     "base_uri": "https://localhost:8080/"
    },
    "id": "Z2Da_-1VnHSw",
    "outputId": "0483aac6-119e-46db-ccdf-3b3d5b028a24"
   },
   "outputs": [
    {
     "name": "stdout",
     "output_type": "stream",
     "text": [
      "Test Loss: 0.6254 | Perplexity: 1.87\n"
     ]
    }
   ],
   "source": [
    "evaluate_test_perplexity(p_rnn_encoder, attn_decoder, test_loader, criterion, use_attention=True)"
   ]
  },
  {
   "cell_type": "markdown",
   "metadata": {
    "id": "G22o1Khxr9n-"
   },
   "source": [
    "In sequence-to-sequence models with attention, the decoder generates tokens step-by-step. At decoder timestep t, the decoder input is actually the token from timestep t-1 of the target sequence (this is called teacher forcing — the input is shifted right by one).\n",
    "\n",
    "Because of this, when the decoder is predicting the token at position t, it focuses its attention mostly on the encoder token at position t-1. This creates an attention matrix where the strongest weights lie along a diagonal that is shifted by one position.\n",
    "\n",
    "So the “shifted diagonal” means the decoder aligns each output token with the previous input token, which helps the model learn to produce the next token based on the right part of the input sequence.\n",
    "\n",
    "This pattern is expected and shows the model has learned a good alignment between input and output sequences."
   ]
  },
  {
   "cell_type": "markdown",
   "metadata": {
    "id": "mfxJqWdWs8rS"
   },
   "source": [
    "### Bonus Part"
   ]
  },
  {
   "cell_type": "code",
   "execution_count": 224,
   "metadata": {
    "id": "hVKDIzU1s-IO"
   },
   "outputs": [],
   "source": [
    "def get_ngrams(sequence, n):\n",
    "    \"\"\"\n",
    "    Extract all n-grams of length n from the input sequence (string).\n",
    "    Example: \"cat\", n=2 -> [\"ca\", \"at\"]\n",
    "    \"\"\"\n",
    "    return [sequence[i:i+n] for i in range(len(sequence)-n+1)]"
   ]
  },
  {
   "cell_type": "code",
   "execution_count": null,
   "metadata": {
    "id": "iuHMAPen1yEM"
   },
   "outputs": [],
   "source": [
    "def clipped_precision(candidate, reference, n):\n",
    "    \"\"\"\n",
    "    Calculate clipped precision for n-grams of order n.\n",
    "    Arguments:\n",
    "    - candidate: predicted string\n",
    "    - reference: ground truth string\n",
    "\n",
    "    Steps:\n",
    "    1. Extract n-grams from candidate and reference.\n",
    "    2. Count occurrences of each n-gram in both.\n",
    "    3. Clip candidate counts by max counts in reference.\n",
    "    4. Return clipped count sum / total candidate n-grams.\n",
    "    \"\"\"\n",
    "    cand_ngrams = get_ngrams(candidate, n)\n",
    "    ref_ngrams = get_ngrams(reference, n)\n",
    "\n",
    "    cand_counts = Counter(cand_ngrams)\n",
    "    ref_counts = Counter(ref_ngrams)\n",
    "\n",
    "    # Clip candidate counts by reference counts to avoid rewarding repeated n-grams more than in ref\n",
    "    clipped_counts = {ng: min(count, ref_counts.get(ng, 0)) for ng, count in cand_counts.items()}\n",
    "\n",
    "    clipped_total = sum(clipped_counts.values())\n",
    "    total = len(cand_ngrams)\n",
    "\n",
    "    if total == 0:\n",
    "        return 0\n",
    "\n",
    "    return clipped_total / total"
   ]
  },
  {
   "cell_type": "code",
   "execution_count": 226,
   "metadata": {
    "id": "5oMnbMoH1g11"
   },
   "outputs": [],
   "source": [
    "def brevity_penalty(candidate, reference):\n",
    "    \"\"\"\n",
    "    Calculate brevity penalty to penalize too short translations.\n",
    "    c = length of candidate, r = length of reference.\n",
    "    \"\"\"\n",
    "    c = len(candidate)\n",
    "    r = len(reference)\n",
    "\n",
    "    if c > r:\n",
    "        return 1\n",
    "    elif c == 0:\n",
    "        return 0\n",
    "    else:\n",
    "        return math.exp(1 - r / c)"
   ]
  },
  {
   "cell_type": "code",
   "execution_count": 227,
   "metadata": {
    "id": "1cAwsZyttJsf"
   },
   "outputs": [],
   "source": [
    "def bleu_score(candidate, reference, max_n=4):\n",
    "    \"\"\"\n",
    "    Calculate BLEU score up to max_n-grams.\n",
    "    Steps:\n",
    "    - Compute clipped precision for n=1,...,max_n\n",
    "    - Compute geometric mean of precisions (with log and exp)\n",
    "    - Apply brevity penalty\n",
    "    \"\"\"\n",
    "    precisions = []\n",
    "    for n in range(1, max_n+1):\n",
    "        p = clipped_precision(candidate, reference, n)\n",
    "        if p == 0:\n",
    "            # Avoid log(0) by using small value\n",
    "            precisions.append(1e-7)\n",
    "        else:\n",
    "            precisions.append(p)\n",
    "    log_prec = sum(math.log(p) for p in precisions) / max_n\n",
    "    bp = brevity_penalty(candidate, reference)\n",
    "    return bp * math.exp(log_prec)"
   ]
  },
  {
   "cell_type": "markdown",
   "metadata": {
    "id": "4DIpAD-34V2J"
   },
   "source": [
    "BLEU просто сравнивает похожесть двух последовательностей"
   ]
  },
  {
   "cell_type": "code",
   "execution_count": 229,
   "metadata": {
    "colab": {
     "base_uri": "https://localhost:8080/"
    },
    "id": "c3aIWCrs1rsw",
    "outputId": "06f71c72-5e98-4a21-e34b-8f96d0d34ef2"
   },
   "outputs": [
    {
     "name": "stdout",
     "output_type": "stream",
     "text": [
      "BLEU(candidate1, reference1): 1.0\n",
      "BLEU(candidate2, reference2): 0.5475182535069453\n",
      "BLEU(candidate3, reference3): 0.00015735790572500688\n"
     ]
    }
   ],
   "source": [
    "candidate1 = \"мария\"\n",
    "reference1 = \"мария\"\n",
    "\n",
    "candidate2 = \"мария\"\n",
    "reference2 = \"марина\"\n",
    "\n",
    "candidate3 = \"маша\"\n",
    "reference3 = \"мария\"\n",
    "\n",
    "print(\"BLEU(candidate1, reference1):\", bleu_score(candidate1, reference1))\n",
    "print(\"BLEU(candidate2, reference2):\", bleu_score(candidate2, reference2))\n",
    "print(\"BLEU(candidate3, reference3):\", bleu_score(candidate3, reference3))"
   ]
  }
 ],
 "metadata": {
  "accelerator": "TPU",
  "colab": {
   "collapsed_sections": [
    "Ieo9yxLJ_wJD",
    "hyCPbFMy_xgB",
    "pr5S_a2jBycb",
    "XeSnYOeOccKl",
    "Og62si5ZiBC5",
    "rwIjNaYuiD4B",
    "mfxJqWdWs8rS"
   ],
   "gpuType": "V28",
   "provenance": []
  },
  "kernelspec": {
   "display_name": "Python 3 (ipykernel)",
   "language": "python",
   "name": "python3"
  },
  "language_info": {
   "codemirror_mode": {
    "name": "ipython",
    "version": 3
   },
   "file_extension": ".py",
   "mimetype": "text/x-python",
   "name": "python",
   "nbconvert_exporter": "python",
   "pygments_lexer": "ipython3",
   "version": "3.12.3"
  }
 },
 "nbformat": 4,
 "nbformat_minor": 4
}
